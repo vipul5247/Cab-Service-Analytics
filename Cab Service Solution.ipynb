{
 "cells": [
  {
   "cell_type": "code",
   "execution_count": null,
   "metadata": {},
   "outputs": [],
   "source": [
    "# Hello! Welcome to my work and thanks to Locale for giving me this opportunity.\n",
    "# How to read this work:\n",
    "# Mostly I have tried to comment and explain what I am doing but in many places, I have coded something and the inference is written in bold just after the output. Please refer to them as well. I have also compiled the conclusions at the end."
   ]
  },
  {
   "cell_type": "code",
   "execution_count": 2,
   "metadata": {},
   "outputs": [],
   "source": [
    "import pandas as pd\n",
    "import numpy as np\n",
    "import matplotlib.pyplot as plt"
   ]
  },
  {
   "cell_type": "code",
   "execution_count": 3,
   "metadata": {},
   "outputs": [],
   "source": [
    "data=pd.read_csv(\"LocaleData.csv\") # Loading the dataset"
   ]
  },
  {
   "cell_type": "code",
   "execution_count": 4,
   "metadata": {},
   "outputs": [
    {
     "data": {
      "text/html": [
       "<div>\n",
       "<style scoped>\n",
       "    .dataframe tbody tr th:only-of-type {\n",
       "        vertical-align: middle;\n",
       "    }\n",
       "\n",
       "    .dataframe tbody tr th {\n",
       "        vertical-align: top;\n",
       "    }\n",
       "\n",
       "    .dataframe thead th {\n",
       "        text-align: right;\n",
       "    }\n",
       "</style>\n",
       "<table border=\"1\" class=\"dataframe\">\n",
       "  <thead>\n",
       "    <tr style=\"text-align: right;\">\n",
       "      <th></th>\n",
       "      <th>id</th>\n",
       "      <th>user_id</th>\n",
       "      <th>vehicle_model_id</th>\n",
       "      <th>package_id</th>\n",
       "      <th>travel_type_id</th>\n",
       "      <th>from_area_id</th>\n",
       "      <th>to_area_id</th>\n",
       "      <th>from_city_id</th>\n",
       "      <th>to_city_id</th>\n",
       "      <th>from_date</th>\n",
       "      <th>to_date</th>\n",
       "      <th>online_booking</th>\n",
       "      <th>mobile_site_booking</th>\n",
       "      <th>booking_created</th>\n",
       "      <th>from_lat</th>\n",
       "      <th>from_long</th>\n",
       "      <th>to_lat</th>\n",
       "      <th>to_long</th>\n",
       "      <th>Car_Cancellation</th>\n",
       "    </tr>\n",
       "  </thead>\n",
       "  <tbody>\n",
       "    <tr>\n",
       "      <th>0</th>\n",
       "      <td>132512</td>\n",
       "      <td>22177</td>\n",
       "      <td>28</td>\n",
       "      <td>NaN</td>\n",
       "      <td>2</td>\n",
       "      <td>83.0</td>\n",
       "      <td>448.0</td>\n",
       "      <td>NaN</td>\n",
       "      <td>NaN</td>\n",
       "      <td>1/1/2013 2:00</td>\n",
       "      <td>NaN</td>\n",
       "      <td>0</td>\n",
       "      <td>0</td>\n",
       "      <td>1/1/2013 1:39</td>\n",
       "      <td>12.924150</td>\n",
       "      <td>77.672290</td>\n",
       "      <td>12.927320</td>\n",
       "      <td>77.635750</td>\n",
       "      <td>0</td>\n",
       "    </tr>\n",
       "    <tr>\n",
       "      <th>1</th>\n",
       "      <td>132513</td>\n",
       "      <td>21413</td>\n",
       "      <td>12</td>\n",
       "      <td>NaN</td>\n",
       "      <td>2</td>\n",
       "      <td>1010.0</td>\n",
       "      <td>540.0</td>\n",
       "      <td>NaN</td>\n",
       "      <td>NaN</td>\n",
       "      <td>1/1/2013 9:00</td>\n",
       "      <td>NaN</td>\n",
       "      <td>0</td>\n",
       "      <td>0</td>\n",
       "      <td>1/1/2013 2:25</td>\n",
       "      <td>12.966910</td>\n",
       "      <td>77.749350</td>\n",
       "      <td>12.927680</td>\n",
       "      <td>77.626640</td>\n",
       "      <td>0</td>\n",
       "    </tr>\n",
       "    <tr>\n",
       "      <th>2</th>\n",
       "      <td>132514</td>\n",
       "      <td>22178</td>\n",
       "      <td>12</td>\n",
       "      <td>NaN</td>\n",
       "      <td>2</td>\n",
       "      <td>1301.0</td>\n",
       "      <td>1034.0</td>\n",
       "      <td>NaN</td>\n",
       "      <td>NaN</td>\n",
       "      <td>1/1/2013 3:30</td>\n",
       "      <td>NaN</td>\n",
       "      <td>0</td>\n",
       "      <td>0</td>\n",
       "      <td>1/1/2013 3:08</td>\n",
       "      <td>12.937222</td>\n",
       "      <td>77.626915</td>\n",
       "      <td>13.047926</td>\n",
       "      <td>77.597766</td>\n",
       "      <td>0</td>\n",
       "    </tr>\n",
       "    <tr>\n",
       "      <th>3</th>\n",
       "      <td>132515</td>\n",
       "      <td>13034</td>\n",
       "      <td>12</td>\n",
       "      <td>NaN</td>\n",
       "      <td>2</td>\n",
       "      <td>768.0</td>\n",
       "      <td>398.0</td>\n",
       "      <td>NaN</td>\n",
       "      <td>NaN</td>\n",
       "      <td>1/1/2013 5:45</td>\n",
       "      <td>NaN</td>\n",
       "      <td>0</td>\n",
       "      <td>0</td>\n",
       "      <td>1/1/2013 4:39</td>\n",
       "      <td>12.989990</td>\n",
       "      <td>77.553320</td>\n",
       "      <td>12.971430</td>\n",
       "      <td>77.639140</td>\n",
       "      <td>0</td>\n",
       "    </tr>\n",
       "    <tr>\n",
       "      <th>4</th>\n",
       "      <td>132517</td>\n",
       "      <td>22180</td>\n",
       "      <td>12</td>\n",
       "      <td>NaN</td>\n",
       "      <td>2</td>\n",
       "      <td>1365.0</td>\n",
       "      <td>849.0</td>\n",
       "      <td>NaN</td>\n",
       "      <td>NaN</td>\n",
       "      <td>1/1/2013 9:00</td>\n",
       "      <td>NaN</td>\n",
       "      <td>0</td>\n",
       "      <td>0</td>\n",
       "      <td>1/1/2013 7:53</td>\n",
       "      <td>12.845653</td>\n",
       "      <td>77.677925</td>\n",
       "      <td>12.954340</td>\n",
       "      <td>77.600720</td>\n",
       "      <td>0</td>\n",
       "    </tr>\n",
       "  </tbody>\n",
       "</table>\n",
       "</div>"
      ],
      "text/plain": [
       "       id  user_id  vehicle_model_id  package_id  travel_type_id  \\\n",
       "0  132512    22177                28         NaN               2   \n",
       "1  132513    21413                12         NaN               2   \n",
       "2  132514    22178                12         NaN               2   \n",
       "3  132515    13034                12         NaN               2   \n",
       "4  132517    22180                12         NaN               2   \n",
       "\n",
       "   from_area_id  to_area_id  from_city_id  to_city_id      from_date to_date  \\\n",
       "0          83.0       448.0           NaN         NaN  1/1/2013 2:00     NaN   \n",
       "1        1010.0       540.0           NaN         NaN  1/1/2013 9:00     NaN   \n",
       "2        1301.0      1034.0           NaN         NaN  1/1/2013 3:30     NaN   \n",
       "3         768.0       398.0           NaN         NaN  1/1/2013 5:45     NaN   \n",
       "4        1365.0       849.0           NaN         NaN  1/1/2013 9:00     NaN   \n",
       "\n",
       "   online_booking  mobile_site_booking booking_created   from_lat  from_long  \\\n",
       "0               0                    0   1/1/2013 1:39  12.924150  77.672290   \n",
       "1               0                    0   1/1/2013 2:25  12.966910  77.749350   \n",
       "2               0                    0   1/1/2013 3:08  12.937222  77.626915   \n",
       "3               0                    0   1/1/2013 4:39  12.989990  77.553320   \n",
       "4               0                    0   1/1/2013 7:53  12.845653  77.677925   \n",
       "\n",
       "      to_lat    to_long  Car_Cancellation  \n",
       "0  12.927320  77.635750                 0  \n",
       "1  12.927680  77.626640                 0  \n",
       "2  13.047926  77.597766                 0  \n",
       "3  12.971430  77.639140                 0  \n",
       "4  12.954340  77.600720                 0  "
      ]
     },
     "execution_count": 4,
     "metadata": {},
     "output_type": "execute_result"
    }
   ],
   "source": [
    "data.head()"
   ]
  },
  {
   "cell_type": "code",
   "execution_count": 5,
   "metadata": {},
   "outputs": [
    {
     "data": {
      "text/plain": [
       "(43431, 19)"
      ]
     },
     "execution_count": 5,
     "metadata": {},
     "output_type": "execute_result"
    }
   ],
   "source": [
    "data.shape"
   ]
  },
  {
   "cell_type": "code",
   "execution_count": 6,
   "metadata": {},
   "outputs": [
    {
     "data": {
      "text/plain": [
       "id                         0\n",
       "user_id                    0\n",
       "vehicle_model_id           0\n",
       "package_id             35881\n",
       "travel_type_id             0\n",
       "from_area_id              88\n",
       "to_area_id              9138\n",
       "from_city_id           27086\n",
       "to_city_id             41843\n",
       "from_date                  0\n",
       "to_date                17890\n",
       "online_booking             0\n",
       "mobile_site_booking        0\n",
       "booking_created            0\n",
       "from_lat                  93\n",
       "from_long                 93\n",
       "to_lat                  9138\n",
       "to_long                 9138\n",
       "Car_Cancellation           0\n",
       "dtype: int64"
      ]
     },
     "execution_count": 6,
     "metadata": {},
     "output_type": "execute_result"
    }
   ],
   "source": [
    "data.isnull().sum() #Finding total null values"
   ]
  },
  {
   "cell_type": "code",
   "execution_count": 7,
   "metadata": {},
   "outputs": [],
   "source": [
    "long=data[data.travel_type_id==1]   #Long is for Long journey package\n",
    "point=data[data.travel_type_id==2]  #For point-to-point package\n",
    "hour=data[data.travel_type_id==3]  #Hourly basis package"
   ]
  },
  {
   "cell_type": "code",
   "execution_count": 8,
   "metadata": {},
   "outputs": [
    {
     "data": {
      "text/plain": [
       "(1589, 19)"
      ]
     },
     "execution_count": 8,
     "metadata": {},
     "output_type": "execute_result"
    }
   ],
   "source": [
    "long.shape"
   ]
  },
  {
   "cell_type": "code",
   "execution_count": 9,
   "metadata": {},
   "outputs": [
    {
     "data": {
      "text/plain": [
       "id                        0\n",
       "user_id                   0\n",
       "vehicle_model_id          0\n",
       "package_id             1589\n",
       "travel_type_id            0\n",
       "from_area_id             88\n",
       "to_area_id             1588\n",
       "from_city_id            196\n",
       "to_city_id                1\n",
       "from_date                 0\n",
       "to_date                  85\n",
       "online_booking            0\n",
       "mobile_site_booking       0\n",
       "booking_created           0\n",
       "from_lat                 93\n",
       "from_long                93\n",
       "to_lat                 1588\n",
       "to_long                1588\n",
       "Car_Cancellation          0\n",
       "dtype: int64"
      ]
     },
     "execution_count": 9,
     "metadata": {},
     "output_type": "execute_result"
    }
   ],
   "source": [
    "long.isnull().sum()"
   ]
  },
  {
   "cell_type": "code",
   "execution_count": 10,
   "metadata": {},
   "outputs": [
    {
     "data": {
      "text/plain": [
       "(34292, 19)"
      ]
     },
     "execution_count": 10,
     "metadata": {},
     "output_type": "execute_result"
    }
   ],
   "source": [
    "point.shape"
   ]
  },
  {
   "cell_type": "code",
   "execution_count": 11,
   "metadata": {},
   "outputs": [
    {
     "data": {
      "text/plain": [
       "id                         0\n",
       "user_id                    0\n",
       "vehicle_model_id           0\n",
       "package_id             34292\n",
       "travel_type_id             0\n",
       "from_area_id               0\n",
       "to_area_id                 0\n",
       "from_city_id           19788\n",
       "to_city_id             34292\n",
       "from_date                  0\n",
       "to_date                15185\n",
       "online_booking             0\n",
       "mobile_site_booking        0\n",
       "booking_created            0\n",
       "from_lat                   0\n",
       "from_long                  0\n",
       "to_lat                     0\n",
       "to_long                    0\n",
       "Car_Cancellation           0\n",
       "dtype: int64"
      ]
     },
     "execution_count": 11,
     "metadata": {},
     "output_type": "execute_result"
    }
   ],
   "source": [
    "point.isnull().sum()"
   ]
  },
  {
   "cell_type": "code",
   "execution_count": 12,
   "metadata": {},
   "outputs": [
    {
     "data": {
      "text/plain": [
       "(7550, 19)"
      ]
     },
     "execution_count": 12,
     "metadata": {},
     "output_type": "execute_result"
    }
   ],
   "source": [
    "hour.shape"
   ]
  },
  {
   "cell_type": "code",
   "execution_count": 13,
   "metadata": {},
   "outputs": [
    {
     "data": {
      "text/plain": [
       "id                        0\n",
       "user_id                   0\n",
       "vehicle_model_id          0\n",
       "package_id                0\n",
       "travel_type_id            0\n",
       "from_area_id              0\n",
       "to_area_id             7550\n",
       "from_city_id           7102\n",
       "to_city_id             7550\n",
       "from_date                 0\n",
       "to_date                2620\n",
       "online_booking            0\n",
       "mobile_site_booking       0\n",
       "booking_created           0\n",
       "from_lat                  0\n",
       "from_long                 0\n",
       "to_lat                 7550\n",
       "to_long                7550\n",
       "Car_Cancellation          0\n",
       "dtype: int64"
      ]
     },
     "execution_count": 13,
     "metadata": {},
     "output_type": "execute_result"
    }
   ],
   "source": [
    "hour.isnull().sum()"
   ]
  },
  {
   "cell_type": "markdown",
   "metadata": {},
   "source": [
    "# Point-to-point Analysis"
   ]
  },
  {
   "cell_type": "code",
   "execution_count": 14,
   "metadata": {},
   "outputs": [
    {
     "data": {
      "text/html": [
       "<div>\n",
       "<style scoped>\n",
       "    .dataframe tbody tr th:only-of-type {\n",
       "        vertical-align: middle;\n",
       "    }\n",
       "\n",
       "    .dataframe tbody tr th {\n",
       "        vertical-align: top;\n",
       "    }\n",
       "\n",
       "    .dataframe thead th {\n",
       "        text-align: right;\n",
       "    }\n",
       "</style>\n",
       "<table border=\"1\" class=\"dataframe\">\n",
       "  <thead>\n",
       "    <tr style=\"text-align: right;\">\n",
       "      <th></th>\n",
       "      <th>id</th>\n",
       "      <th>user_id</th>\n",
       "      <th>vehicle_model_id</th>\n",
       "      <th>package_id</th>\n",
       "      <th>travel_type_id</th>\n",
       "      <th>from_area_id</th>\n",
       "      <th>to_area_id</th>\n",
       "      <th>from_city_id</th>\n",
       "      <th>to_city_id</th>\n",
       "      <th>from_date</th>\n",
       "      <th>to_date</th>\n",
       "      <th>online_booking</th>\n",
       "      <th>mobile_site_booking</th>\n",
       "      <th>booking_created</th>\n",
       "      <th>from_lat</th>\n",
       "      <th>from_long</th>\n",
       "      <th>to_lat</th>\n",
       "      <th>to_long</th>\n",
       "      <th>Car_Cancellation</th>\n",
       "    </tr>\n",
       "  </thead>\n",
       "  <tbody>\n",
       "    <tr>\n",
       "      <th>0</th>\n",
       "      <td>132512</td>\n",
       "      <td>22177</td>\n",
       "      <td>28</td>\n",
       "      <td>NaN</td>\n",
       "      <td>2</td>\n",
       "      <td>83.0</td>\n",
       "      <td>448.0</td>\n",
       "      <td>NaN</td>\n",
       "      <td>NaN</td>\n",
       "      <td>1/1/2013 2:00</td>\n",
       "      <td>NaN</td>\n",
       "      <td>0</td>\n",
       "      <td>0</td>\n",
       "      <td>1/1/2013 1:39</td>\n",
       "      <td>12.924150</td>\n",
       "      <td>77.672290</td>\n",
       "      <td>12.927320</td>\n",
       "      <td>77.635750</td>\n",
       "      <td>0</td>\n",
       "    </tr>\n",
       "    <tr>\n",
       "      <th>1</th>\n",
       "      <td>132513</td>\n",
       "      <td>21413</td>\n",
       "      <td>12</td>\n",
       "      <td>NaN</td>\n",
       "      <td>2</td>\n",
       "      <td>1010.0</td>\n",
       "      <td>540.0</td>\n",
       "      <td>NaN</td>\n",
       "      <td>NaN</td>\n",
       "      <td>1/1/2013 9:00</td>\n",
       "      <td>NaN</td>\n",
       "      <td>0</td>\n",
       "      <td>0</td>\n",
       "      <td>1/1/2013 2:25</td>\n",
       "      <td>12.966910</td>\n",
       "      <td>77.749350</td>\n",
       "      <td>12.927680</td>\n",
       "      <td>77.626640</td>\n",
       "      <td>0</td>\n",
       "    </tr>\n",
       "    <tr>\n",
       "      <th>2</th>\n",
       "      <td>132514</td>\n",
       "      <td>22178</td>\n",
       "      <td>12</td>\n",
       "      <td>NaN</td>\n",
       "      <td>2</td>\n",
       "      <td>1301.0</td>\n",
       "      <td>1034.0</td>\n",
       "      <td>NaN</td>\n",
       "      <td>NaN</td>\n",
       "      <td>1/1/2013 3:30</td>\n",
       "      <td>NaN</td>\n",
       "      <td>0</td>\n",
       "      <td>0</td>\n",
       "      <td>1/1/2013 3:08</td>\n",
       "      <td>12.937222</td>\n",
       "      <td>77.626915</td>\n",
       "      <td>13.047926</td>\n",
       "      <td>77.597766</td>\n",
       "      <td>0</td>\n",
       "    </tr>\n",
       "    <tr>\n",
       "      <th>3</th>\n",
       "      <td>132515</td>\n",
       "      <td>13034</td>\n",
       "      <td>12</td>\n",
       "      <td>NaN</td>\n",
       "      <td>2</td>\n",
       "      <td>768.0</td>\n",
       "      <td>398.0</td>\n",
       "      <td>NaN</td>\n",
       "      <td>NaN</td>\n",
       "      <td>1/1/2013 5:45</td>\n",
       "      <td>NaN</td>\n",
       "      <td>0</td>\n",
       "      <td>0</td>\n",
       "      <td>1/1/2013 4:39</td>\n",
       "      <td>12.989990</td>\n",
       "      <td>77.553320</td>\n",
       "      <td>12.971430</td>\n",
       "      <td>77.639140</td>\n",
       "      <td>0</td>\n",
       "    </tr>\n",
       "    <tr>\n",
       "      <th>4</th>\n",
       "      <td>132517</td>\n",
       "      <td>22180</td>\n",
       "      <td>12</td>\n",
       "      <td>NaN</td>\n",
       "      <td>2</td>\n",
       "      <td>1365.0</td>\n",
       "      <td>849.0</td>\n",
       "      <td>NaN</td>\n",
       "      <td>NaN</td>\n",
       "      <td>1/1/2013 9:00</td>\n",
       "      <td>NaN</td>\n",
       "      <td>0</td>\n",
       "      <td>0</td>\n",
       "      <td>1/1/2013 7:53</td>\n",
       "      <td>12.845653</td>\n",
       "      <td>77.677925</td>\n",
       "      <td>12.954340</td>\n",
       "      <td>77.600720</td>\n",
       "      <td>0</td>\n",
       "    </tr>\n",
       "  </tbody>\n",
       "</table>\n",
       "</div>"
      ],
      "text/plain": [
       "       id  user_id  vehicle_model_id  package_id  travel_type_id  \\\n",
       "0  132512    22177                28         NaN               2   \n",
       "1  132513    21413                12         NaN               2   \n",
       "2  132514    22178                12         NaN               2   \n",
       "3  132515    13034                12         NaN               2   \n",
       "4  132517    22180                12         NaN               2   \n",
       "\n",
       "   from_area_id  to_area_id  from_city_id  to_city_id      from_date to_date  \\\n",
       "0          83.0       448.0           NaN         NaN  1/1/2013 2:00     NaN   \n",
       "1        1010.0       540.0           NaN         NaN  1/1/2013 9:00     NaN   \n",
       "2        1301.0      1034.0           NaN         NaN  1/1/2013 3:30     NaN   \n",
       "3         768.0       398.0           NaN         NaN  1/1/2013 5:45     NaN   \n",
       "4        1365.0       849.0           NaN         NaN  1/1/2013 9:00     NaN   \n",
       "\n",
       "   online_booking  mobile_site_booking booking_created   from_lat  from_long  \\\n",
       "0               0                    0   1/1/2013 1:39  12.924150  77.672290   \n",
       "1               0                    0   1/1/2013 2:25  12.966910  77.749350   \n",
       "2               0                    0   1/1/2013 3:08  12.937222  77.626915   \n",
       "3               0                    0   1/1/2013 4:39  12.989990  77.553320   \n",
       "4               0                    0   1/1/2013 7:53  12.845653  77.677925   \n",
       "\n",
       "      to_lat    to_long  Car_Cancellation  \n",
       "0  12.927320  77.635750                 0  \n",
       "1  12.927680  77.626640                 0  \n",
       "2  13.047926  77.597766                 0  \n",
       "3  12.971430  77.639140                 0  \n",
       "4  12.954340  77.600720                 0  "
      ]
     },
     "execution_count": 14,
     "metadata": {},
     "output_type": "execute_result"
    }
   ],
   "source": [
    "point.head()"
   ]
  },
  {
   "cell_type": "code",
   "execution_count": 15,
   "metadata": {},
   "outputs": [
    {
     "data": {
      "text/plain": [
       "(34292, 19)"
      ]
     },
     "execution_count": 15,
     "metadata": {},
     "output_type": "execute_result"
    }
   ],
   "source": [
    "point.shape"
   ]
  },
  {
   "cell_type": "code",
   "execution_count": 16,
   "metadata": {},
   "outputs": [
    {
     "data": {
      "text/plain": [
       "id                         0\n",
       "user_id                    0\n",
       "vehicle_model_id           0\n",
       "package_id             34292\n",
       "travel_type_id             0\n",
       "from_area_id               0\n",
       "to_area_id                 0\n",
       "from_city_id           19788\n",
       "to_city_id             34292\n",
       "from_date                  0\n",
       "to_date                15185\n",
       "online_booking             0\n",
       "mobile_site_booking        0\n",
       "booking_created            0\n",
       "from_lat                   0\n",
       "from_long                  0\n",
       "to_lat                     0\n",
       "to_long                    0\n",
       "Car_Cancellation           0\n",
       "dtype: int64"
      ]
     },
     "execution_count": 16,
     "metadata": {},
     "output_type": "execute_result"
    }
   ],
   "source": [
    "point.isnull().sum()"
   ]
  },
  {
   "cell_type": "markdown",
   "metadata": {},
   "source": [
    "#### >> Package_id, to_city_id is not available for any value in the point dataset,\n",
    "#### >> from_city & to_date are not available for almost half of the dataset so it will be dangerous to make predictions based on this\n"
   ]
  },
  {
   "cell_type": "code",
   "execution_count": 17,
   "metadata": {},
   "outputs": [],
   "source": [
    "#drop columns which are not applicable to point-to-point and columns with all nan values\n",
    "point=point.drop(['package_id', 'from_city_id', 'to_city_id', 'to_date'], axis=1)"
   ]
  },
  {
   "cell_type": "code",
   "execution_count": 18,
   "metadata": {},
   "outputs": [
    {
     "data": {
      "text/html": [
       "<div>\n",
       "<style scoped>\n",
       "    .dataframe tbody tr th:only-of-type {\n",
       "        vertical-align: middle;\n",
       "    }\n",
       "\n",
       "    .dataframe tbody tr th {\n",
       "        vertical-align: top;\n",
       "    }\n",
       "\n",
       "    .dataframe thead th {\n",
       "        text-align: right;\n",
       "    }\n",
       "</style>\n",
       "<table border=\"1\" class=\"dataframe\">\n",
       "  <thead>\n",
       "    <tr style=\"text-align: right;\">\n",
       "      <th></th>\n",
       "      <th>id</th>\n",
       "      <th>user_id</th>\n",
       "      <th>vehicle_model_id</th>\n",
       "      <th>travel_type_id</th>\n",
       "      <th>from_area_id</th>\n",
       "      <th>to_area_id</th>\n",
       "      <th>from_date</th>\n",
       "      <th>online_booking</th>\n",
       "      <th>mobile_site_booking</th>\n",
       "      <th>booking_created</th>\n",
       "      <th>from_lat</th>\n",
       "      <th>from_long</th>\n",
       "      <th>to_lat</th>\n",
       "      <th>to_long</th>\n",
       "      <th>Car_Cancellation</th>\n",
       "    </tr>\n",
       "  </thead>\n",
       "  <tbody>\n",
       "    <tr>\n",
       "      <th>0</th>\n",
       "      <td>132512</td>\n",
       "      <td>22177</td>\n",
       "      <td>28</td>\n",
       "      <td>2</td>\n",
       "      <td>83.0</td>\n",
       "      <td>448.0</td>\n",
       "      <td>2013-01-01 02:00:00</td>\n",
       "      <td>0</td>\n",
       "      <td>0</td>\n",
       "      <td>2013-01-01 01:39:00</td>\n",
       "      <td>12.924150</td>\n",
       "      <td>77.672290</td>\n",
       "      <td>12.927320</td>\n",
       "      <td>77.635750</td>\n",
       "      <td>0</td>\n",
       "    </tr>\n",
       "    <tr>\n",
       "      <th>1</th>\n",
       "      <td>132513</td>\n",
       "      <td>21413</td>\n",
       "      <td>12</td>\n",
       "      <td>2</td>\n",
       "      <td>1010.0</td>\n",
       "      <td>540.0</td>\n",
       "      <td>2013-01-01 09:00:00</td>\n",
       "      <td>0</td>\n",
       "      <td>0</td>\n",
       "      <td>2013-01-01 02:25:00</td>\n",
       "      <td>12.966910</td>\n",
       "      <td>77.749350</td>\n",
       "      <td>12.927680</td>\n",
       "      <td>77.626640</td>\n",
       "      <td>0</td>\n",
       "    </tr>\n",
       "    <tr>\n",
       "      <th>2</th>\n",
       "      <td>132514</td>\n",
       "      <td>22178</td>\n",
       "      <td>12</td>\n",
       "      <td>2</td>\n",
       "      <td>1301.0</td>\n",
       "      <td>1034.0</td>\n",
       "      <td>2013-01-01 03:30:00</td>\n",
       "      <td>0</td>\n",
       "      <td>0</td>\n",
       "      <td>2013-01-01 03:08:00</td>\n",
       "      <td>12.937222</td>\n",
       "      <td>77.626915</td>\n",
       "      <td>13.047926</td>\n",
       "      <td>77.597766</td>\n",
       "      <td>0</td>\n",
       "    </tr>\n",
       "    <tr>\n",
       "      <th>3</th>\n",
       "      <td>132515</td>\n",
       "      <td>13034</td>\n",
       "      <td>12</td>\n",
       "      <td>2</td>\n",
       "      <td>768.0</td>\n",
       "      <td>398.0</td>\n",
       "      <td>2013-01-01 05:45:00</td>\n",
       "      <td>0</td>\n",
       "      <td>0</td>\n",
       "      <td>2013-01-01 04:39:00</td>\n",
       "      <td>12.989990</td>\n",
       "      <td>77.553320</td>\n",
       "      <td>12.971430</td>\n",
       "      <td>77.639140</td>\n",
       "      <td>0</td>\n",
       "    </tr>\n",
       "    <tr>\n",
       "      <th>4</th>\n",
       "      <td>132517</td>\n",
       "      <td>22180</td>\n",
       "      <td>12</td>\n",
       "      <td>2</td>\n",
       "      <td>1365.0</td>\n",
       "      <td>849.0</td>\n",
       "      <td>2013-01-01 09:00:00</td>\n",
       "      <td>0</td>\n",
       "      <td>0</td>\n",
       "      <td>2013-01-01 07:53:00</td>\n",
       "      <td>12.845653</td>\n",
       "      <td>77.677925</td>\n",
       "      <td>12.954340</td>\n",
       "      <td>77.600720</td>\n",
       "      <td>0</td>\n",
       "    </tr>\n",
       "  </tbody>\n",
       "</table>\n",
       "</div>"
      ],
      "text/plain": [
       "       id  user_id  vehicle_model_id  travel_type_id  from_area_id  \\\n",
       "0  132512    22177                28               2          83.0   \n",
       "1  132513    21413                12               2        1010.0   \n",
       "2  132514    22178                12               2        1301.0   \n",
       "3  132515    13034                12               2         768.0   \n",
       "4  132517    22180                12               2        1365.0   \n",
       "\n",
       "   to_area_id           from_date  online_booking  mobile_site_booking  \\\n",
       "0       448.0 2013-01-01 02:00:00               0                    0   \n",
       "1       540.0 2013-01-01 09:00:00               0                    0   \n",
       "2      1034.0 2013-01-01 03:30:00               0                    0   \n",
       "3       398.0 2013-01-01 05:45:00               0                    0   \n",
       "4       849.0 2013-01-01 09:00:00               0                    0   \n",
       "\n",
       "      booking_created   from_lat  from_long     to_lat    to_long  \\\n",
       "0 2013-01-01 01:39:00  12.924150  77.672290  12.927320  77.635750   \n",
       "1 2013-01-01 02:25:00  12.966910  77.749350  12.927680  77.626640   \n",
       "2 2013-01-01 03:08:00  12.937222  77.626915  13.047926  77.597766   \n",
       "3 2013-01-01 04:39:00  12.989990  77.553320  12.971430  77.639140   \n",
       "4 2013-01-01 07:53:00  12.845653  77.677925  12.954340  77.600720   \n",
       "\n",
       "   Car_Cancellation  \n",
       "0                 0  \n",
       "1                 0  \n",
       "2                 0  \n",
       "3                 0  \n",
       "4                 0  "
      ]
     },
     "execution_count": 18,
     "metadata": {},
     "output_type": "execute_result"
    }
   ],
   "source": [
    "#Convert date and time to standard format\n",
    "point.from_date = pd.to_datetime(point.from_date)\n",
    "point.booking_created = pd.to_datetime(point.booking_created)\n",
    "point.head()"
   ]
  },
  {
   "cell_type": "code",
   "execution_count": 19,
   "metadata": {},
   "outputs": [
    {
     "data": {
      "text/plain": [
       "id                              int64\n",
       "user_id                         int64\n",
       "vehicle_model_id                int64\n",
       "travel_type_id                  int64\n",
       "from_area_id                  float64\n",
       "to_area_id                    float64\n",
       "from_date              datetime64[ns]\n",
       "online_booking                  int64\n",
       "mobile_site_booking             int64\n",
       "booking_created        datetime64[ns]\n",
       "from_lat                      float64\n",
       "from_long                     float64\n",
       "to_lat                        float64\n",
       "to_long                       float64\n",
       "Car_Cancellation                int64\n",
       "dtype: object"
      ]
     },
     "execution_count": 19,
     "metadata": {},
     "output_type": "execute_result"
    }
   ],
   "source": [
    "point.dtypes #We see that from_date and booking time is now changed to datetime format"
   ]
  },
  {
   "cell_type": "code",
   "execution_count": 19,
   "metadata": {},
   "outputs": [
    {
     "name": "stderr",
     "output_type": "stream",
     "text": [
      "C:\\Users\\dell\\Anaconda2\\lib\\site-packages\\ipykernel_launcher.py:1: UserWarning: Pandas doesn't allow columns to be created via a new attribute name - see https://pandas.pydata.org/pandas-docs/stable/indexing.html#attribute-access\n",
      "  \"\"\"Entry point for launching an IPython kernel.\n",
      "C:\\Users\\dell\\Anaconda2\\lib\\site-packages\\ipykernel_launcher.py:2: UserWarning: Pandas doesn't allow columns to be created via a new attribute name - see https://pandas.pydata.org/pandas-docs/stable/indexing.html#attribute-access\n",
      "  \n"
     ]
    }
   ],
   "source": [
    "point.time=point.from_date.dt.time   #Extracting time \n",
    "point.book=point.booking_created.dt.time\n"
   ]
  },
  {
   "cell_type": "code",
   "execution_count": 20,
   "metadata": {},
   "outputs": [
    {
     "data": {
      "text/html": [
       "<div>\n",
       "<style scoped>\n",
       "    .dataframe tbody tr th:only-of-type {\n",
       "        vertical-align: middle;\n",
       "    }\n",
       "\n",
       "    .dataframe tbody tr th {\n",
       "        vertical-align: top;\n",
       "    }\n",
       "\n",
       "    .dataframe thead th {\n",
       "        text-align: right;\n",
       "    }\n",
       "</style>\n",
       "<table border=\"1\" class=\"dataframe\">\n",
       "  <thead>\n",
       "    <tr style=\"text-align: right;\">\n",
       "      <th></th>\n",
       "      <th>id</th>\n",
       "      <th>user_id</th>\n",
       "      <th>vehicle_model_id</th>\n",
       "      <th>travel_type_id</th>\n",
       "      <th>from_area_id</th>\n",
       "      <th>to_area_id</th>\n",
       "      <th>from_date</th>\n",
       "      <th>online_booking</th>\n",
       "      <th>mobile_site_booking</th>\n",
       "      <th>booking_created</th>\n",
       "      <th>from_lat</th>\n",
       "      <th>from_long</th>\n",
       "      <th>to_lat</th>\n",
       "      <th>to_long</th>\n",
       "      <th>Car_Cancellation</th>\n",
       "      <th>diff</th>\n",
       "    </tr>\n",
       "  </thead>\n",
       "  <tbody>\n",
       "    <tr>\n",
       "      <th>0</th>\n",
       "      <td>132512</td>\n",
       "      <td>22177</td>\n",
       "      <td>28</td>\n",
       "      <td>2</td>\n",
       "      <td>83.0</td>\n",
       "      <td>448.0</td>\n",
       "      <td>2013-01-01 02:00:00</td>\n",
       "      <td>0</td>\n",
       "      <td>0</td>\n",
       "      <td>2013-01-01 01:39:00</td>\n",
       "      <td>12.924150</td>\n",
       "      <td>77.672290</td>\n",
       "      <td>12.927320</td>\n",
       "      <td>77.635750</td>\n",
       "      <td>0</td>\n",
       "      <td>21.0</td>\n",
       "    </tr>\n",
       "    <tr>\n",
       "      <th>1</th>\n",
       "      <td>132513</td>\n",
       "      <td>21413</td>\n",
       "      <td>12</td>\n",
       "      <td>2</td>\n",
       "      <td>1010.0</td>\n",
       "      <td>540.0</td>\n",
       "      <td>2013-01-01 09:00:00</td>\n",
       "      <td>0</td>\n",
       "      <td>0</td>\n",
       "      <td>2013-01-01 02:25:00</td>\n",
       "      <td>12.966910</td>\n",
       "      <td>77.749350</td>\n",
       "      <td>12.927680</td>\n",
       "      <td>77.626640</td>\n",
       "      <td>0</td>\n",
       "      <td>395.0</td>\n",
       "    </tr>\n",
       "    <tr>\n",
       "      <th>2</th>\n",
       "      <td>132514</td>\n",
       "      <td>22178</td>\n",
       "      <td>12</td>\n",
       "      <td>2</td>\n",
       "      <td>1301.0</td>\n",
       "      <td>1034.0</td>\n",
       "      <td>2013-01-01 03:30:00</td>\n",
       "      <td>0</td>\n",
       "      <td>0</td>\n",
       "      <td>2013-01-01 03:08:00</td>\n",
       "      <td>12.937222</td>\n",
       "      <td>77.626915</td>\n",
       "      <td>13.047926</td>\n",
       "      <td>77.597766</td>\n",
       "      <td>0</td>\n",
       "      <td>22.0</td>\n",
       "    </tr>\n",
       "    <tr>\n",
       "      <th>3</th>\n",
       "      <td>132515</td>\n",
       "      <td>13034</td>\n",
       "      <td>12</td>\n",
       "      <td>2</td>\n",
       "      <td>768.0</td>\n",
       "      <td>398.0</td>\n",
       "      <td>2013-01-01 05:45:00</td>\n",
       "      <td>0</td>\n",
       "      <td>0</td>\n",
       "      <td>2013-01-01 04:39:00</td>\n",
       "      <td>12.989990</td>\n",
       "      <td>77.553320</td>\n",
       "      <td>12.971430</td>\n",
       "      <td>77.639140</td>\n",
       "      <td>0</td>\n",
       "      <td>66.0</td>\n",
       "    </tr>\n",
       "    <tr>\n",
       "      <th>4</th>\n",
       "      <td>132517</td>\n",
       "      <td>22180</td>\n",
       "      <td>12</td>\n",
       "      <td>2</td>\n",
       "      <td>1365.0</td>\n",
       "      <td>849.0</td>\n",
       "      <td>2013-01-01 09:00:00</td>\n",
       "      <td>0</td>\n",
       "      <td>0</td>\n",
       "      <td>2013-01-01 07:53:00</td>\n",
       "      <td>12.845653</td>\n",
       "      <td>77.677925</td>\n",
       "      <td>12.954340</td>\n",
       "      <td>77.600720</td>\n",
       "      <td>0</td>\n",
       "      <td>67.0</td>\n",
       "    </tr>\n",
       "  </tbody>\n",
       "</table>\n",
       "</div>"
      ],
      "text/plain": [
       "       id  user_id  vehicle_model_id  travel_type_id  from_area_id  \\\n",
       "0  132512    22177                28               2          83.0   \n",
       "1  132513    21413                12               2        1010.0   \n",
       "2  132514    22178                12               2        1301.0   \n",
       "3  132515    13034                12               2         768.0   \n",
       "4  132517    22180                12               2        1365.0   \n",
       "\n",
       "   to_area_id           from_date  online_booking  mobile_site_booking  \\\n",
       "0       448.0 2013-01-01 02:00:00               0                    0   \n",
       "1       540.0 2013-01-01 09:00:00               0                    0   \n",
       "2      1034.0 2013-01-01 03:30:00               0                    0   \n",
       "3       398.0 2013-01-01 05:45:00               0                    0   \n",
       "4       849.0 2013-01-01 09:00:00               0                    0   \n",
       "\n",
       "      booking_created   from_lat  from_long     to_lat    to_long  \\\n",
       "0 2013-01-01 01:39:00  12.924150  77.672290  12.927320  77.635750   \n",
       "1 2013-01-01 02:25:00  12.966910  77.749350  12.927680  77.626640   \n",
       "2 2013-01-01 03:08:00  12.937222  77.626915  13.047926  77.597766   \n",
       "3 2013-01-01 04:39:00  12.989990  77.553320  12.971430  77.639140   \n",
       "4 2013-01-01 07:53:00  12.845653  77.677925  12.954340  77.600720   \n",
       "\n",
       "   Car_Cancellation   diff  \n",
       "0                 0   21.0  \n",
       "1                 0  395.0  \n",
       "2                 0   22.0  \n",
       "3                 0   66.0  \n",
       "4                 0   67.0  "
      ]
     },
     "execution_count": 20,
     "metadata": {},
     "output_type": "execute_result"
    }
   ],
   "source": [
    "point['diff'] = point['from_date'] - point['booking_created'] #Difference between booking time and the time when trip start\n",
    "point['diff']=point['diff']/np.timedelta64(1,'m')\n",
    "point.head()"
   ]
  },
  {
   "cell_type": "markdown",
   "metadata": {},
   "source": [
    "##### Now let us try to find relation between no of bookings and time"
   ]
  },
  {
   "cell_type": "code",
   "execution_count": 21,
   "metadata": {},
   "outputs": [
    {
     "name": "stdout",
     "output_type": "stream",
     "text": [
      "10    2411\n",
      "11    2316\n",
      "19    2238\n",
      "20    2214\n",
      "17    2167\n",
      "16    2145\n",
      "12    2137\n",
      "15    2094\n",
      "18    2083\n",
      "14    1997\n",
      "13    1938\n",
      "22    1776\n",
      "21    1758\n",
      "9     1653\n",
      "23    1306\n",
      "8     1241\n",
      "7      858\n",
      "0      740\n",
      "1      381\n",
      "6      310\n",
      "2      178\n",
      "5      134\n",
      "3      121\n",
      "4       96\n",
      "Name: booking_created, dtype: int64\n"
     ]
    },
    {
     "data": {
      "text/plain": [
       "<matplotlib.axes._subplots.AxesSubplot at 0x21af3b2ed30>"
      ]
     },
     "execution_count": 21,
     "metadata": {},
     "output_type": "execute_result"
    },
    {
     "data": {
      "image/png": "[encoded data removed]",
      "text/plain": [
       "<Figure size 432x288 with 1 Axes>"
      ]
     },
     "metadata": {
      "needs_background": "light"
     },
     "output_type": "display_data"
    }
   ],
   "source": [
    "a=point.booking_created.dt.hour.value_counts() # Number of bookings made by time in hour\n",
    "print(a)\n",
    "a.plot(kind='bar')"
   ]
  },
  {
   "cell_type": "markdown",
   "metadata": {},
   "source": [
    "### >> We make some inferences here that there are a few time hour sets when the bookings are at peak: 10.00-12.00 is a peak hour, 16.00-20.00 is another peak hour. So prices can be high at this time and at 01.00-7.00 prices can be minimum. We could devise some pricing scheme based on the time.\n",
    "### Thus we can make a deduction of forming batch of timings on the basis of demand timings(Reason for this can be understood below as we will need to use these batches):\n",
    "####   Night and Early morning (1.00-7.00)\n",
    "####   Morning 1 (7.00-10.00)\n",
    "####   Morning 2 (10.00-12.00)\n",
    "####   Noon  ( 13.00-16.00)\n",
    "####   Evening  (16.00-20.00)\n",
    "####   Early night (20.00-00.00)"
   ]
  },
  {
   "cell_type": "markdown",
   "metadata": {},
   "source": [
    "### -------\n",
    "#### Now that we have looked at time wise bookings, let us look at area wise bookings"
   ]
  },
  {
   "cell_type": "code",
   "execution_count": 22,
   "metadata": {},
   "outputs": [
    {
     "data": {
      "text/plain": [
       "393.0     3375\n",
       "571.0     1198\n",
       "585.0      798\n",
       "293.0      760\n",
       "1384.0     599\n",
       "Name: from_area_id, dtype: int64"
      ]
     },
     "execution_count": 22,
     "metadata": {},
     "output_type": "execute_result"
    }
   ],
   "source": [
    "a=point.from_area_id.value_counts() #Count of from_Area_id\n",
    "p=a.index\n",
    "a.head()"
   ]
  },
  {
   "cell_type": "markdown",
   "metadata": {},
   "source": [
    "#### >>This gives us an overall idea that in areas with different ids most bookings are made but let us make a closer analysis and  try to find out relation between area and time of booking\n"
   ]
  },
  {
   "cell_type": "code",
   "execution_count": 23,
   "metadata": {},
   "outputs": [
    {
     "name": "stdout",
     "output_type": "stream",
     "text": [
      "393.0 --> 23 .00\n",
      "571.0 --> 17 .00\n",
      "585.0 --> 7 .00\n",
      "293.0 --> 17 .00\n",
      "1384.0 --> 7 .00\n",
      "142.0 --> 3 .00\n",
      "1010.0 --> 18 .00\n",
      "83.0 --> 8 .00\n",
      "1096.0 --> 17 .00\n",
      "1026.0 --> 8 .00\n"
     ]
    }
   ],
   "source": [
    "for i in range(0,10): # Loop over 586 areas to find relation between time and area but for good visiblity ran the loop for 10 only\n",
    "    z=point.from_date.dt.hour[point.from_area_id==p[i]].value_counts().idxmax()\n",
    "    print(p[i],\"-->\",z,\".00\")"
   ]
  },
  {
   "cell_type": "markdown",
   "metadata": {},
   "source": [
    "### For the above table we see, this explains the time in hour with most bookings. Here we will use the batch as made above. This shall help us in serving the car services more in these batch hours.\n",
    "### For example: For area with id 393.0 we see 23.00 is the time with most bookings, so we use the batch 'Early Night' meaning from 20.00- 00.00, the car services frequency shall be increased\n"
   ]
  },
  {
   "cell_type": "markdown",
   "metadata": {},
   "source": [
    "## -----------\n",
    "### Also, here below lets do the reverse, that is find most used area for each hour"
   ]
  },
  {
   "cell_type": "code",
   "execution_count": 24,
   "metadata": {},
   "outputs": [
    {
     "name": "stdout",
     "output_type": "stream",
     "text": [
      "Time  0 .00 area id->> 393.0\n",
      "Time  1 .00 area id->> 393.0\n",
      "Time  2 .00 area id->> 571.0\n",
      "Time  3 .00 area id->> 571.0\n",
      "Time  4 .00 area id->> 393.0\n",
      "Time  5 .00 area id->> 393.0\n",
      "Time  6 .00 area id->> 585.0\n",
      "Time  7 .00 area id->> 585.0\n",
      "Time  8 .00 area id->> 1026.0\n",
      "Time  9 .00 area id->> 393.0\n",
      "Time  10 .00 area id->> 393.0\n",
      "Time  11 .00 area id->> 393.0\n",
      "Time  12 .00 area id->> 393.0\n",
      "Time  13 .00 area id->> 393.0\n",
      "Time  14 .00 area id->> 410.0\n",
      "Time  15 .00 area id->> 393.0\n",
      "Time  16 .00 area id->> 393.0\n",
      "Time  17 .00 area id->> 293.0\n",
      "Time  18 .00 area id->> 393.0\n",
      "Time  19 .00 area id->> 393.0\n",
      "Time  20 .00 area id->> 393.0\n",
      "Time  21 .00 area id->> 393.0\n",
      "Time  22 .00 area id->> 393.0\n",
      "Time  23 .00 area id->> 393.0\n"
     ]
    }
   ],
   "source": [
    "for i in range(0,24): #Loop over time from 0.00-23.00 to find relation between time and area\n",
    "    c=point.from_area_id[point.from_date.dt.hour==i].value_counts().idxmax()\n",
    "    print(\"Time \",i,\".00 area id->>\", c)"
   ]
  },
  {
   "cell_type": "markdown",
   "metadata": {},
   "source": [
    "### Above list indicates that for each hour, which area has maximum bookings"
   ]
  },
  {
   "cell_type": "code",
   "execution_count": 25,
   "metadata": {},
   "outputs": [
    {
     "data": {
      "text/plain": [
       "571.0     115\n",
       "393.0     115\n",
       "293.0      77\n",
       "83.0       59\n",
       "1010.0     51\n",
       "Name: from_area_id, dtype: int64"
      ]
     },
     "execution_count": 25,
     "metadata": {},
     "output_type": "execute_result"
    }
   ],
   "source": [
    "cancel=point.from_area_id[point.Car_Cancellation==1].value_counts() #Looking into the cancellation column\n",
    "cancel.head()"
   ]
  },
  {
   "cell_type": "code",
   "execution_count": 26,
   "metadata": {},
   "outputs": [
    {
     "data": {
      "text/plain": [
       "<matplotlib.axes._subplots.AxesSubplot at 0x21af7904ba8>"
      ]
     },
     "execution_count": 26,
     "metadata": {},
     "output_type": "execute_result"
    },
    {
     "data": {
      "image/png": "[encoded data removed]",
      "text/plain": [
       "<Figure size 432x288 with 1 Axes>"
      ]
     },
     "metadata": {
      "needs_background": "light"
     },
     "output_type": "display_data"
    }
   ],
   "source": [
    "cancel.plot(kind='bar',rot=90)"
   ]
  },
  {
   "cell_type": "markdown",
   "metadata": {},
   "source": [
    "### This shows a few areas which have abnormally large number of cancellations. These areas could be analysed closely for the reason."
   ]
  },
  {
   "cell_type": "code",
   "execution_count": 27,
   "metadata": {},
   "outputs": [
    {
     "data": {
      "text/plain": [
       "0    21842\n",
       "1    12450\n",
       "Name: online_booking, dtype: int64"
      ]
     },
     "execution_count": 27,
     "metadata": {},
     "output_type": "execute_result"
    }
   ],
   "source": [
    "point.online_booking.value_counts() #Counting onine booking values"
   ]
  },
  {
   "cell_type": "code",
   "execution_count": 28,
   "metadata": {},
   "outputs": [
    {
     "data": {
      "text/plain": [
       "393.0     1588\n",
       "571.0      472\n",
       "585.0      331\n",
       "142.0      266\n",
       "1384.0     250\n",
       "Name: from_area_id, dtype: int64"
      ]
     },
     "execution_count": 28,
     "metadata": {},
     "output_type": "execute_result"
    }
   ],
   "source": [
    "point.from_area_id[point.online_booking==1].value_counts().head() #Finding relation between online booking and area_id"
   ]
  },
  {
   "cell_type": "markdown",
   "metadata": {},
   "source": [
    "### Area 393.0 and 571.0 have most online bookings"
   ]
  },
  {
   "cell_type": "code",
   "execution_count": 29,
   "metadata": {},
   "outputs": [
    {
     "data": {
      "text/plain": [
       "393.0     260\n",
       "585.0      43\n",
       "1010.0     41\n",
       "571.0      37\n",
       "293.0      26\n",
       "Name: from_area_id, dtype: int64"
      ]
     },
     "execution_count": 29,
     "metadata": {},
     "output_type": "execute_result"
    }
   ],
   "source": [
    "point.from_area_id[point.mobile_site_booking==1].value_counts().head() #Finding relation between mobile booking and area_id"
   ]
  },
  {
   "cell_type": "markdown",
   "metadata": {},
   "source": [
    "#### So 393.0 also has highest mobile site booking."
   ]
  },
  {
   "cell_type": "code",
   "execution_count": 30,
   "metadata": {},
   "outputs": [],
   "source": [
    "user=point.user_id\n",
    "n=user.size\n",
    "j=user.index"
   ]
  },
  {
   "cell_type": "code",
   "execution_count": 31,
   "metadata": {},
   "outputs": [
    {
     "name": "stdout",
     "output_type": "stream",
     "text": [
      "0 --> 448.0    1\n",
      "Name: to_area_id, dtype: int64\n",
      "1 --> 540.0    1\n",
      "Name: to_area_id, dtype: int64\n",
      "2 --> 1034.0    1\n",
      "Name: to_area_id, dtype: int64\n",
      "3 --> 398.0    1\n",
      "Name: to_area_id, dtype: int64\n",
      "4 --> 849.0    1\n",
      "Name: to_area_id, dtype: int64\n",
      "5 --> 393.0    1\n",
      "Name: to_area_id, dtype: int64\n",
      "6 --> 832.0    1\n",
      "Name: to_area_id, dtype: int64\n",
      "7 --> 376.0    1\n",
      "Name: to_area_id, dtype: int64\n",
      "8 --> 776.0    1\n",
      "Name: to_area_id, dtype: int64\n",
      "9 --> 1371.0    1\n",
      "Name: to_area_id, dtype: int64\n"
     ]
    }
   ],
   "source": [
    "for i in range(0,10): #Loop over the total user count to find user personalied feed but for visibility do for 10 only here\n",
    "    k=point.to_area_id[point.user_id==user[j[i]]].value_counts().nlargest(1) #Gives top value for place he likes\n",
    "    print(i,\"-->\",k)"
   ]
  },
  {
   "cell_type": "markdown",
   "metadata": {},
   "source": [
    "### The above can be used as a basic recommendation for a user based on his most frequent place he chooses as 'Destination' while booking"
   ]
  },
  {
   "cell_type": "code",
   "execution_count": 32,
   "metadata": {},
   "outputs": [
    {
     "name": "stdout",
     "output_type": "stream",
     "text": [
      "0 --> 28    1\n",
      "Name: vehicle_model_id, dtype: int64\n",
      "1 --> 12    1\n",
      "Name: vehicle_model_id, dtype: int64\n",
      "2 --> 12    1\n",
      "Name: vehicle_model_id, dtype: int64\n",
      "3 --> 12    1\n",
      "Name: vehicle_model_id, dtype: int64\n",
      "4 --> 12    1\n",
      "Name: vehicle_model_id, dtype: int64\n",
      "5 --> 12    2\n",
      "Name: vehicle_model_id, dtype: int64\n",
      "6 --> 12    1\n",
      "Name: vehicle_model_id, dtype: int64\n",
      "7 --> 12    1\n",
      "Name: vehicle_model_id, dtype: int64\n",
      "8 --> 12    1\n",
      "Name: vehicle_model_id, dtype: int64\n",
      "9 --> 86    1\n",
      "Name: vehicle_model_id, dtype: int64\n"
     ]
    }
   ],
   "source": [
    "for i in range(0,10): #Loop over n-1 but for visibility do for 10 only here\n",
    "    k=point.vehicle_model_id[point.user_id==user[j[i]]].value_counts().nlargest(1) #Gives top value for vehicle he books\n",
    "    print(i,\"-->\",k)"
   ]
  },
  {
   "cell_type": "markdown",
   "metadata": {},
   "source": [
    "### Similar to the previous one, we get a preference of the model_id of the car he likes to choose the most"
   ]
  },
  {
   "cell_type": "code",
   "execution_count": 36,
   "metadata": {},
   "outputs": [],
   "source": [
    "# Find which vehicle used more frequently in an area\n"
   ]
  },
  {
   "cell_type": "code",
   "execution_count": 34,
   "metadata": {},
   "outputs": [
    {
     "name": "stdout",
     "output_type": "stream",
     "text": [
      "393.0 --> 12    2140\n",
      "85     297\n",
      "89     274\n",
      "24     208\n",
      "28     164\n",
      "Name: vehicle_model_id, dtype: int64\n",
      "571.0 --> 12    906\n",
      "85     62\n",
      "89     58\n",
      "28     53\n",
      "65     38\n",
      "Name: vehicle_model_id, dtype: int64\n",
      "585.0 --> 12    576\n",
      "85     48\n",
      "28     47\n",
      "89     41\n",
      "65     31\n",
      "Name: vehicle_model_id, dtype: int64\n",
      "293.0 --> 12    640\n",
      "89     32\n",
      "85     24\n",
      "24     19\n",
      "28     14\n",
      "Name: vehicle_model_id, dtype: int64\n",
      "1384.0 --> 12    412\n",
      "89     41\n",
      "65     36\n",
      "28     34\n",
      "85     30\n",
      "Name: vehicle_model_id, dtype: int64\n",
      "142.0 --> 12    419\n",
      "85     40\n",
      "89     38\n",
      "24     25\n",
      "28     19\n",
      "Name: vehicle_model_id, dtype: int64\n",
      "1010.0 --> 12    430\n",
      "85     34\n",
      "28     26\n",
      "24     24\n",
      "89     21\n",
      "Name: vehicle_model_id, dtype: int64\n",
      "83.0 --> 12    401\n",
      "89     49\n",
      "85     27\n",
      "28     19\n",
      "65     16\n",
      "Name: vehicle_model_id, dtype: int64\n",
      "1096.0 --> 12    312\n",
      "89     23\n",
      "28     18\n",
      "85     16\n",
      "24     16\n",
      "Name: vehicle_model_id, dtype: int64\n",
      "1026.0 --> 12    292\n",
      "89     17\n",
      "24     13\n",
      "28      9\n",
      "85      7\n",
      "Name: vehicle_model_id, dtype: int64\n"
     ]
    }
   ],
   "source": [
    "for i in range(0,10): #Loop over 586 but for visibility do for 10 only here \n",
    "    a=point.vehicle_model_id[point.from_area_id==p[i]].value_counts() #Looking into relation between area_id and vehicle most frequently used for that area\n",
    "    print(p[i],\"-->\",a.head())"
   ]
  },
  {
   "cell_type": "markdown",
   "metadata": {},
   "source": [
    "### We see that most areas require model id 12 vehicles more. All other model ids  and their counts are mentioned. Hence this suggests that these areas should have vehicles of these mode_ids more"
   ]
  },
  {
   "cell_type": "markdown",
   "metadata": {},
   "source": [
    "# --------------------"
   ]
  },
  {
   "cell_type": "markdown",
   "metadata": {},
   "source": [
    "# POINT-To-POINT recaps:"
   ]
  },
  {
   "cell_type": "markdown",
   "metadata": {},
   "source": [
    "##### >> Company can make use the finding of peak hours and batch of timings. The prices can be made high in peak hours and lower in others.\n",
    "##### >> Company can also look up to the table which shows which area has most bookings and the timings of each area when most rush is there. So company can increase price in this area at this particular time.\n",
    "##### >> Also, we have a table which shows in general at what time how much bookings are made. Time at which more bookings are made, company can have more vehicles in use and price more due to more demands\n",
    "##### >> We have also  identified areas with most online and website bookings\n",
    "##### >> Now, the app can provide each user with suggestions for the places he generally uses as destinationand also for the type of vehicle he uses. This shall facilitate the user and improve the performance for the app\n",
    "##### >> The company can see what model of vehicle is more needed in an area and in general as well. \n",
    "\n",
    "### These points can drastically help the company gain and build customers and optimize its working. "
   ]
  },
  {
   "cell_type": "markdown",
   "metadata": {},
   "source": [
    "# -------------------------------------------------------------------------------------------------------------"
   ]
  },
  {
   "cell_type": "markdown",
   "metadata": {},
   "source": [
    "# Long-Distance Package Analysis"
   ]
  },
  {
   "cell_type": "code",
   "execution_count": 35,
   "metadata": {},
   "outputs": [
    {
     "data": {
      "text/html": [
       "<div>\n",
       "<style scoped>\n",
       "    .dataframe tbody tr th:only-of-type {\n",
       "        vertical-align: middle;\n",
       "    }\n",
       "\n",
       "    .dataframe tbody tr th {\n",
       "        vertical-align: top;\n",
       "    }\n",
       "\n",
       "    .dataframe thead th {\n",
       "        text-align: right;\n",
       "    }\n",
       "</style>\n",
       "<table border=\"1\" class=\"dataframe\">\n",
       "  <thead>\n",
       "    <tr style=\"text-align: right;\">\n",
       "      <th></th>\n",
       "      <th>id</th>\n",
       "      <th>user_id</th>\n",
       "      <th>vehicle_model_id</th>\n",
       "      <th>package_id</th>\n",
       "      <th>travel_type_id</th>\n",
       "      <th>from_area_id</th>\n",
       "      <th>to_area_id</th>\n",
       "      <th>from_city_id</th>\n",
       "      <th>to_city_id</th>\n",
       "      <th>from_date</th>\n",
       "      <th>to_date</th>\n",
       "      <th>online_booking</th>\n",
       "      <th>mobile_site_booking</th>\n",
       "      <th>booking_created</th>\n",
       "      <th>from_lat</th>\n",
       "      <th>from_long</th>\n",
       "      <th>to_lat</th>\n",
       "      <th>to_long</th>\n",
       "      <th>Car_Cancellation</th>\n",
       "    </tr>\n",
       "  </thead>\n",
       "  <tbody>\n",
       "    <tr>\n",
       "      <th>6</th>\n",
       "      <td>132519</td>\n",
       "      <td>22172</td>\n",
       "      <td>12</td>\n",
       "      <td>NaN</td>\n",
       "      <td>1</td>\n",
       "      <td>571.0</td>\n",
       "      <td>NaN</td>\n",
       "      <td>15.0</td>\n",
       "      <td>108.0</td>\n",
       "      <td>1/1/2013 9:45</td>\n",
       "      <td>1/1/2013 9:45</td>\n",
       "      <td>0</td>\n",
       "      <td>0</td>\n",
       "      <td>1/1/2013 9:21</td>\n",
       "      <td>12.951850</td>\n",
       "      <td>77.696420</td>\n",
       "      <td>NaN</td>\n",
       "      <td>NaN</td>\n",
       "      <td>0</td>\n",
       "    </tr>\n",
       "    <tr>\n",
       "      <th>17</th>\n",
       "      <td>132531</td>\n",
       "      <td>22189</td>\n",
       "      <td>24</td>\n",
       "      <td>NaN</td>\n",
       "      <td>1</td>\n",
       "      <td>1383.0</td>\n",
       "      <td>NaN</td>\n",
       "      <td>NaN</td>\n",
       "      <td>32.0</td>\n",
       "      <td>1/12/2013 8:00</td>\n",
       "      <td>1/14/2013 0:00</td>\n",
       "      <td>1</td>\n",
       "      <td>0</td>\n",
       "      <td>1/1/2013 12:17</td>\n",
       "      <td>12.930451</td>\n",
       "      <td>77.685822</td>\n",
       "      <td>NaN</td>\n",
       "      <td>NaN</td>\n",
       "      <td>0</td>\n",
       "    </tr>\n",
       "    <tr>\n",
       "      <th>24</th>\n",
       "      <td>132539</td>\n",
       "      <td>22192</td>\n",
       "      <td>54</td>\n",
       "      <td>NaN</td>\n",
       "      <td>1</td>\n",
       "      <td>515.0</td>\n",
       "      <td>NaN</td>\n",
       "      <td>15.0</td>\n",
       "      <td>32.0</td>\n",
       "      <td>1/5/2013 8:30</td>\n",
       "      <td>1/5/2013 0:00</td>\n",
       "      <td>0</td>\n",
       "      <td>0</td>\n",
       "      <td>1/1/2013 14:40</td>\n",
       "      <td>12.978960</td>\n",
       "      <td>77.673450</td>\n",
       "      <td>NaN</td>\n",
       "      <td>NaN</td>\n",
       "      <td>0</td>\n",
       "    </tr>\n",
       "    <tr>\n",
       "      <th>158</th>\n",
       "      <td>132697</td>\n",
       "      <td>22275</td>\n",
       "      <td>28</td>\n",
       "      <td>NaN</td>\n",
       "      <td>1</td>\n",
       "      <td>136.0</td>\n",
       "      <td>NaN</td>\n",
       "      <td>1.0</td>\n",
       "      <td>152.0</td>\n",
       "      <td>1/4/2013 9:30</td>\n",
       "      <td>1/4/2013 9:30</td>\n",
       "      <td>1</td>\n",
       "      <td>0</td>\n",
       "      <td>1/3/2013 12:19</td>\n",
       "      <td>12.907960</td>\n",
       "      <td>77.624180</td>\n",
       "      <td>NaN</td>\n",
       "      <td>NaN</td>\n",
       "      <td>0</td>\n",
       "    </tr>\n",
       "    <tr>\n",
       "      <th>216</th>\n",
       "      <td>132760</td>\n",
       "      <td>22310</td>\n",
       "      <td>87</td>\n",
       "      <td>NaN</td>\n",
       "      <td>1</td>\n",
       "      <td>1118.0</td>\n",
       "      <td>NaN</td>\n",
       "      <td>NaN</td>\n",
       "      <td>32.0</td>\n",
       "      <td>1/6/2013 7:30</td>\n",
       "      <td>1/6/2013 0:00</td>\n",
       "      <td>1</td>\n",
       "      <td>0</td>\n",
       "      <td>1/4/2013 9:32</td>\n",
       "      <td>12.930220</td>\n",
       "      <td>77.560390</td>\n",
       "      <td>NaN</td>\n",
       "      <td>NaN</td>\n",
       "      <td>0</td>\n",
       "    </tr>\n",
       "  </tbody>\n",
       "</table>\n",
       "</div>"
      ],
      "text/plain": [
       "         id  user_id  vehicle_model_id  package_id  travel_type_id  \\\n",
       "6    132519    22172                12         NaN               1   \n",
       "17   132531    22189                24         NaN               1   \n",
       "24   132539    22192                54         NaN               1   \n",
       "158  132697    22275                28         NaN               1   \n",
       "216  132760    22310                87         NaN               1   \n",
       "\n",
       "     from_area_id  to_area_id  from_city_id  to_city_id       from_date  \\\n",
       "6           571.0         NaN          15.0       108.0   1/1/2013 9:45   \n",
       "17         1383.0         NaN           NaN        32.0  1/12/2013 8:00   \n",
       "24          515.0         NaN          15.0        32.0   1/5/2013 8:30   \n",
       "158         136.0         NaN           1.0       152.0   1/4/2013 9:30   \n",
       "216        1118.0         NaN           NaN        32.0   1/6/2013 7:30   \n",
       "\n",
       "            to_date  online_booking  mobile_site_booking booking_created  \\\n",
       "6     1/1/2013 9:45               0                    0   1/1/2013 9:21   \n",
       "17   1/14/2013 0:00               1                    0  1/1/2013 12:17   \n",
       "24    1/5/2013 0:00               0                    0  1/1/2013 14:40   \n",
       "158   1/4/2013 9:30               1                    0  1/3/2013 12:19   \n",
       "216   1/6/2013 0:00               1                    0   1/4/2013 9:32   \n",
       "\n",
       "      from_lat  from_long  to_lat  to_long  Car_Cancellation  \n",
       "6    12.951850  77.696420     NaN      NaN                 0  \n",
       "17   12.930451  77.685822     NaN      NaN                 0  \n",
       "24   12.978960  77.673450     NaN      NaN                 0  \n",
       "158  12.907960  77.624180     NaN      NaN                 0  \n",
       "216  12.930220  77.560390     NaN      NaN                 0  "
      ]
     },
     "execution_count": 35,
     "metadata": {},
     "output_type": "execute_result"
    }
   ],
   "source": [
    "long.head()"
   ]
  },
  {
   "cell_type": "code",
   "execution_count": 36,
   "metadata": {},
   "outputs": [
    {
     "data": {
      "text/plain": [
       "(1589, 19)"
      ]
     },
     "execution_count": 36,
     "metadata": {},
     "output_type": "execute_result"
    }
   ],
   "source": [
    "long.shape"
   ]
  },
  {
   "cell_type": "code",
   "execution_count": 37,
   "metadata": {},
   "outputs": [
    {
     "data": {
      "text/plain": [
       "id                        0\n",
       "user_id                   0\n",
       "vehicle_model_id          0\n",
       "package_id             1589\n",
       "travel_type_id            0\n",
       "from_area_id             88\n",
       "to_area_id             1588\n",
       "from_city_id            196\n",
       "to_city_id                1\n",
       "from_date                 0\n",
       "to_date                  85\n",
       "online_booking            0\n",
       "mobile_site_booking       0\n",
       "booking_created           0\n",
       "from_lat                 93\n",
       "from_long                93\n",
       "to_lat                 1588\n",
       "to_long                1588\n",
       "Car_Cancellation          0\n",
       "dtype: int64"
      ]
     },
     "execution_count": 37,
     "metadata": {},
     "output_type": "execute_result"
    }
   ],
   "source": [
    "long.isnull().sum()"
   ]
  },
  {
   "cell_type": "markdown",
   "metadata": {},
   "source": [
    "#### Package id, to_area_id, to_lat, to_long are all empty so can't use these"
   ]
  },
  {
   "cell_type": "code",
   "execution_count": 38,
   "metadata": {},
   "outputs": [],
   "source": [
    "long=long.drop(['package_id','to_area_id','to_lat','to_long'],axis=1)"
   ]
  },
  {
   "cell_type": "code",
   "execution_count": 39,
   "metadata": {},
   "outputs": [],
   "source": [
    "# Since we have the from city id and area id and also latitude and longitude for the same but we don't have to_city or to_latitude and longitude id, so from_long and from_lat is of no use\n",
    "long=long.drop(['from_lat','from_long'],axis=1)"
   ]
  },
  {
   "cell_type": "code",
   "execution_count": 40,
   "metadata": {},
   "outputs": [],
   "source": [
    "#Taking only those rows with no nan values\n",
    "long=long[long.from_city_id.notnull()]\n",
    "long=long[long.from_area_id.notnull()]\n",
    "long=long[long.to_date.notnull()]"
   ]
  },
  {
   "cell_type": "code",
   "execution_count": 41,
   "metadata": {},
   "outputs": [
    {
     "data": {
      "text/plain": [
       "id                     0\n",
       "user_id                0\n",
       "vehicle_model_id       0\n",
       "travel_type_id         0\n",
       "from_area_id           0\n",
       "from_city_id           0\n",
       "to_city_id             0\n",
       "from_date              0\n",
       "to_date                0\n",
       "online_booking         0\n",
       "mobile_site_booking    0\n",
       "booking_created        0\n",
       "Car_Cancellation       0\n",
       "dtype: int64"
      ]
     },
     "execution_count": 41,
     "metadata": {},
     "output_type": "execute_result"
    }
   ],
   "source": [
    "long.isnull().sum()"
   ]
  },
  {
   "cell_type": "code",
   "execution_count": 42,
   "metadata": {},
   "outputs": [],
   "source": [
    "#Convert date and time to standard format\n",
    "long.from_date = pd.to_datetime(long.from_date)\n",
    "long.booking_created = pd.to_datetime(long.booking_created)\n",
    "long.to_date = pd.to_datetime(long.to_date)"
   ]
  },
  {
   "cell_type": "code",
   "execution_count": 43,
   "metadata": {},
   "outputs": [
    {
     "data": {
      "text/html": [
       "<div>\n",
       "<style scoped>\n",
       "    .dataframe tbody tr th:only-of-type {\n",
       "        vertical-align: middle;\n",
       "    }\n",
       "\n",
       "    .dataframe tbody tr th {\n",
       "        vertical-align: top;\n",
       "    }\n",
       "\n",
       "    .dataframe thead th {\n",
       "        text-align: right;\n",
       "    }\n",
       "</style>\n",
       "<table border=\"1\" class=\"dataframe\">\n",
       "  <thead>\n",
       "    <tr style=\"text-align: right;\">\n",
       "      <th></th>\n",
       "      <th>id</th>\n",
       "      <th>user_id</th>\n",
       "      <th>vehicle_model_id</th>\n",
       "      <th>travel_type_id</th>\n",
       "      <th>from_area_id</th>\n",
       "      <th>from_city_id</th>\n",
       "      <th>to_city_id</th>\n",
       "      <th>from_date</th>\n",
       "      <th>to_date</th>\n",
       "      <th>online_booking</th>\n",
       "      <th>mobile_site_booking</th>\n",
       "      <th>booking_created</th>\n",
       "      <th>Car_Cancellation</th>\n",
       "      <th>time_travel</th>\n",
       "    </tr>\n",
       "  </thead>\n",
       "  <tbody>\n",
       "    <tr>\n",
       "      <th>6</th>\n",
       "      <td>132519</td>\n",
       "      <td>22172</td>\n",
       "      <td>12</td>\n",
       "      <td>1</td>\n",
       "      <td>571.0</td>\n",
       "      <td>15.0</td>\n",
       "      <td>108.0</td>\n",
       "      <td>2013-01-01 09:45:00</td>\n",
       "      <td>2013-01-01 09:45:00</td>\n",
       "      <td>0</td>\n",
       "      <td>0</td>\n",
       "      <td>2013-01-01 09:21:00</td>\n",
       "      <td>0</td>\n",
       "      <td>0.0</td>\n",
       "    </tr>\n",
       "    <tr>\n",
       "      <th>24</th>\n",
       "      <td>132539</td>\n",
       "      <td>22192</td>\n",
       "      <td>54</td>\n",
       "      <td>1</td>\n",
       "      <td>515.0</td>\n",
       "      <td>15.0</td>\n",
       "      <td>32.0</td>\n",
       "      <td>2013-01-05 08:30:00</td>\n",
       "      <td>2013-01-05 00:00:00</td>\n",
       "      <td>0</td>\n",
       "      <td>0</td>\n",
       "      <td>2013-01-01 14:40:00</td>\n",
       "      <td>0</td>\n",
       "      <td>-510.0</td>\n",
       "    </tr>\n",
       "    <tr>\n",
       "      <th>158</th>\n",
       "      <td>132697</td>\n",
       "      <td>22275</td>\n",
       "      <td>28</td>\n",
       "      <td>1</td>\n",
       "      <td>136.0</td>\n",
       "      <td>1.0</td>\n",
       "      <td>152.0</td>\n",
       "      <td>2013-01-04 09:30:00</td>\n",
       "      <td>2013-01-04 09:30:00</td>\n",
       "      <td>1</td>\n",
       "      <td>0</td>\n",
       "      <td>2013-01-03 12:19:00</td>\n",
       "      <td>0</td>\n",
       "      <td>0.0</td>\n",
       "    </tr>\n",
       "    <tr>\n",
       "      <th>233</th>\n",
       "      <td>132780</td>\n",
       "      <td>22318</td>\n",
       "      <td>65</td>\n",
       "      <td>1</td>\n",
       "      <td>293.0</td>\n",
       "      <td>15.0</td>\n",
       "      <td>32.0</td>\n",
       "      <td>2013-01-05 08:00:00</td>\n",
       "      <td>2013-01-06 00:00:00</td>\n",
       "      <td>0</td>\n",
       "      <td>0</td>\n",
       "      <td>2013-01-04 12:43:00</td>\n",
       "      <td>0</td>\n",
       "      <td>960.0</td>\n",
       "    </tr>\n",
       "    <tr>\n",
       "      <th>234</th>\n",
       "      <td>132781</td>\n",
       "      <td>22319</td>\n",
       "      <td>87</td>\n",
       "      <td>1</td>\n",
       "      <td>912.0</td>\n",
       "      <td>1.0</td>\n",
       "      <td>32.0</td>\n",
       "      <td>2013-01-05 06:00:00</td>\n",
       "      <td>2013-01-05 06:00:00</td>\n",
       "      <td>1</td>\n",
       "      <td>0</td>\n",
       "      <td>2013-01-04 12:51:00</td>\n",
       "      <td>0</td>\n",
       "      <td>0.0</td>\n",
       "    </tr>\n",
       "  </tbody>\n",
       "</table>\n",
       "</div>"
      ],
      "text/plain": [
       "         id  user_id  vehicle_model_id  travel_type_id  from_area_id  \\\n",
       "6    132519    22172                12               1         571.0   \n",
       "24   132539    22192                54               1         515.0   \n",
       "158  132697    22275                28               1         136.0   \n",
       "233  132780    22318                65               1         293.0   \n",
       "234  132781    22319                87               1         912.0   \n",
       "\n",
       "     from_city_id  to_city_id           from_date             to_date  \\\n",
       "6            15.0       108.0 2013-01-01 09:45:00 2013-01-01 09:45:00   \n",
       "24           15.0        32.0 2013-01-05 08:30:00 2013-01-05 00:00:00   \n",
       "158           1.0       152.0 2013-01-04 09:30:00 2013-01-04 09:30:00   \n",
       "233          15.0        32.0 2013-01-05 08:00:00 2013-01-06 00:00:00   \n",
       "234           1.0        32.0 2013-01-05 06:00:00 2013-01-05 06:00:00   \n",
       "\n",
       "     online_booking  mobile_site_booking     booking_created  \\\n",
       "6                 0                    0 2013-01-01 09:21:00   \n",
       "24                0                    0 2013-01-01 14:40:00   \n",
       "158               1                    0 2013-01-03 12:19:00   \n",
       "233               0                    0 2013-01-04 12:43:00   \n",
       "234               1                    0 2013-01-04 12:51:00   \n",
       "\n",
       "     Car_Cancellation  time_travel  \n",
       "6                   0          0.0  \n",
       "24                  0       -510.0  \n",
       "158                 0          0.0  \n",
       "233                 0        960.0  \n",
       "234                 0          0.0  "
      ]
     },
     "execution_count": 43,
     "metadata": {},
     "output_type": "execute_result"
    }
   ],
   "source": [
    "long['time_travel'] = long['to_date'] - long['from_date'] #Difference between booking time and the time when trip start\n",
    "long['time_travel']=long['time_travel']/np.timedelta64(1,'m')\n",
    "long.head()"
   ]
  },
  {
   "cell_type": "code",
   "execution_count": 44,
   "metadata": {},
   "outputs": [
    {
     "data": {
      "text/plain": [
       " 0.0       158\n",
       " 1440.0     73\n",
       " 1079.0     73\n",
       "-360.0      56\n",
       " 2880.0     45\n",
       "Name: time_travel, dtype: int64"
      ]
     },
     "execution_count": 44,
     "metadata": {},
     "output_type": "execute_result"
    }
   ],
   "source": [
    "a=long.time_travel.value_counts()\n",
    "a.head() #Time of travel in minutes and their counts"
   ]
  },
  {
   "cell_type": "code",
   "execution_count": 45,
   "metadata": {},
   "outputs": [],
   "source": [
    "long.drop(long[long['time_travel'] == 0.0].index, inplace = True) #Time of travel 0 minutes mean no sense"
   ]
  },
  {
   "cell_type": "code",
   "execution_count": 46,
   "metadata": {},
   "outputs": [
    {
     "name": "stderr",
     "output_type": "stream",
     "text": [
      "C:\\Users\\dell\\Anaconda2\\lib\\site-packages\\ipykernel_launcher.py:3: SettingWithCopyWarning: \n",
      "A value is trying to be set on a copy of a slice from a DataFrame\n",
      "\n",
      "See the caveats in the documentation: http://pandas.pydata.org/pandas-docs/stable/indexing.html#indexing-view-versus-copy\n",
      "  This is separate from the ipykernel package so we can avoid doing imports until\n"
     ]
    }
   ],
   "source": [
    "r=long.time_travel[long.time_travel<0]\n",
    "r=r*(-1)\n",
    "long.time_travel[long.time_travel<0]=r # #All negative values changed to positive because that may be an error"
   ]
  },
  {
   "cell_type": "code",
   "execution_count": 47,
   "metadata": {},
   "outputs": [],
   "source": [
    "long.drop(long[long['time_travel'] > 5000].index, inplace = True) # There are values of time of travel from 1970 to 2013. Obviously we don't want those"
   ]
  },
  {
   "cell_type": "code",
   "execution_count": 48,
   "metadata": {},
   "outputs": [
    {
     "data": {
      "text/plain": [
       "1512.5173783515393"
      ]
     },
     "execution_count": 48,
     "metadata": {},
     "output_type": "execute_result"
    }
   ],
   "source": [
    "long.time_travel.mean() # Mean to travel time in minutes"
   ]
  },
  {
   "cell_type": "markdown",
   "metadata": {},
   "source": [
    "#### Mean travel time of each booking in this long package in minutes is 1500 mins. So all drivers should have an estimate of the fuel and resources for this much hours."
   ]
  },
  {
   "cell_type": "code",
   "execution_count": 49,
   "metadata": {},
   "outputs": [
    {
     "data": {
      "text/plain": [
       "32.0     294\n",
       "55.0     109\n",
       "29.0      76\n",
       "146.0     61\n",
       "108.0     50\n",
       "Name: to_city_id, dtype: int64"
      ]
     },
     "execution_count": 49,
     "metadata": {},
     "output_type": "execute_result"
    }
   ],
   "source": [
    "# To which city most bookings?\n",
    "long.to_city_id.value_counts().head()"
   ]
  },
  {
   "cell_type": "markdown",
   "metadata": {},
   "source": [
    "#### Most bookings are made to city 32.0 and 55.0"
   ]
  },
  {
   "cell_type": "code",
   "execution_count": 50,
   "metadata": {},
   "outputs": [
    {
     "data": {
      "text/plain": [
       "12    459\n",
       "65    246\n",
       "87    113\n",
       "89     66\n",
       "85     36\n",
       "Name: vehicle_model_id, dtype: int64"
      ]
     },
     "execution_count": 50,
     "metadata": {},
     "output_type": "execute_result"
    }
   ],
   "source": [
    "# Which vehicle model is used frequently for more travel\n",
    "long.vehicle_model_id.value_counts().head()"
   ]
  },
  {
   "cell_type": "markdown",
   "metadata": {},
   "source": [
    "### For long distance, vehicles with id 12,65,87 are most popular"
   ]
  },
  {
   "cell_type": "code",
   "execution_count": 51,
   "metadata": {},
   "outputs": [
    {
     "name": "stdout",
     "output_type": "stream",
     "text": [
      "20    84\n",
      "15    76\n",
      "19    74\n",
      "16    74\n",
      "12    70\n",
      "Name: booking_created, dtype: int64\n"
     ]
    },
    {
     "data": {
      "text/plain": [
       "<matplotlib.axes._subplots.AxesSubplot at 0x21af8450ac8>"
      ]
     },
     "execution_count": 51,
     "metadata": {},
     "output_type": "execute_result"
    },
    {
     "data": {
      "image/png": "[encoded data removed]",
      "text/plain": [
       "<Figure size 432x288 with 1 Axes>"
      ]
     },
     "metadata": {
      "needs_background": "light"
     },
     "output_type": "display_data"
    }
   ],
   "source": [
    "# For long journey, what batch timings most bookings made?\n",
    "a=long.booking_created.dt.hour.value_counts() # Number of bookings made by time in hour\n",
    "print(a.head())\n",
    "a.plot(kind='bar')"
   ]
  },
  {
   "cell_type": "markdown",
   "metadata": {},
   "source": [
    "### This shows the time for most bookings for Long distance journey. We see that most bookings are made in noon and evening period"
   ]
  },
  {
   "cell_type": "code",
   "execution_count": 52,
   "metadata": {},
   "outputs": [
    {
     "data": {
      "text/plain": [
       "id                  323\n",
       "user_id             323\n",
       "vehicle_model_id    323\n",
       "travel_type_id      323\n",
       "from_area_id        323\n",
       "dtype: int64"
      ]
     },
     "execution_count": 52,
     "metadata": {},
     "output_type": "execute_result"
    }
   ],
   "source": [
    "long[(long.online_booking==1) | (long.mobile_site_booking==1)].count().head() #Finding total sum of online and mobile booking"
   ]
  },
  {
   "cell_type": "code",
   "execution_count": 53,
   "metadata": {},
   "outputs": [
    {
     "data": {
      "text/plain": [
       "(1007, 14)"
      ]
     },
     "execution_count": 53,
     "metadata": {},
     "output_type": "execute_result"
    }
   ],
   "source": [
    "long.shape"
   ]
  },
  {
   "cell_type": "markdown",
   "metadata": {},
   "source": [
    "### This shows that 1004-323= 681 bookings are made via telephone"
   ]
  },
  {
   "cell_type": "code",
   "execution_count": 56,
   "metadata": {},
   "outputs": [
    {
     "name": "stdout",
     "output_type": "stream",
     "text": [
      "0 --> 32.0    1\n",
      "Name: to_city_id, dtype: int64\n",
      "1 --> 32.0    1\n",
      "Name: to_city_id, dtype: int64\n",
      "2 --> 29.0    1\n",
      "Name: to_city_id, dtype: int64\n",
      "3 --> 32.0    1\n",
      "Name: to_city_id, dtype: int64\n",
      "4 --> 32.0    1\n",
      "Name: to_city_id, dtype: int64\n",
      "5 --> 29.0    1\n",
      "Name: to_city_id, dtype: int64\n",
      "6 --> 64.0    1\n",
      "Name: to_city_id, dtype: int64\n",
      "7 --> 146.0    1\n",
      "Name: to_city_id, dtype: int64\n",
      "8 --> 179.0    1\n",
      "Name: to_city_id, dtype: int64\n",
      "9 --> 131.0    1\n",
      "Name: to_city_id, dtype: int64\n"
     ]
    }
   ],
   "source": [
    "user=long.user_id\n",
    "n=user.size\n",
    "j=user.index\n",
    "\n",
    "for i in range(0,10): #Loop over n-1 but for visibility do for 10 only here\n",
    "    k=long.to_city_id[long.user_id==user[j[i]]].value_counts().nlargest(1) #Gives top value for place he likes\n",
    "    print(i,\"-->\",k)"
   ]
  },
  {
   "cell_type": "markdown",
   "metadata": {},
   "source": [
    "### This can act as a recommendation system for the company where they can suggest in their app of the destination city based on his frequency and past searches"
   ]
  },
  {
   "cell_type": "markdown",
   "metadata": {},
   "source": [
    "## ---------------"
   ]
  },
  {
   "cell_type": "markdown",
   "metadata": {},
   "source": [
    "## LONG Distance Package Recap:"
   ]
  },
  {
   "cell_type": "markdown",
   "metadata": {},
   "source": [
    "##### >> We found the average travel time of each trip so the company can allocate resources  accordingly.\n",
    "##### >> Company can find the place (city) to which most bookings are made.\n",
    "##### >> Also, we can find the vehicles which people use most for the long distance package so more vehicles of these ids can be allotted to this package.\n",
    "##### >> Company can identify from the bar graph at what time most bookings of long distance are made and accordingly recources could be made readay for maximum benefit.\n",
    "##### >> We have also found an interesting fact that most bookings of long distance package are made via telephone.\n",
    "\n",
    "### These points can drastically help the company gain and build customers and optimize its working. "
   ]
  },
  {
   "cell_type": "markdown",
   "metadata": {},
   "source": [
    "# ----------------------------------------------------------------------------------------------"
   ]
  },
  {
   "cell_type": "markdown",
   "metadata": {},
   "source": [
    "# HOURLY package Analysis"
   ]
  },
  {
   "cell_type": "code",
   "execution_count": 57,
   "metadata": {},
   "outputs": [
    {
     "data": {
      "text/html": [
       "<div>\n",
       "<style scoped>\n",
       "    .dataframe tbody tr th:only-of-type {\n",
       "        vertical-align: middle;\n",
       "    }\n",
       "\n",
       "    .dataframe tbody tr th {\n",
       "        vertical-align: top;\n",
       "    }\n",
       "\n",
       "    .dataframe thead th {\n",
       "        text-align: right;\n",
       "    }\n",
       "</style>\n",
       "<table border=\"1\" class=\"dataframe\">\n",
       "  <thead>\n",
       "    <tr style=\"text-align: right;\">\n",
       "      <th></th>\n",
       "      <th>id</th>\n",
       "      <th>user_id</th>\n",
       "      <th>vehicle_model_id</th>\n",
       "      <th>package_id</th>\n",
       "      <th>travel_type_id</th>\n",
       "      <th>from_area_id</th>\n",
       "      <th>to_area_id</th>\n",
       "      <th>from_city_id</th>\n",
       "      <th>to_city_id</th>\n",
       "      <th>from_date</th>\n",
       "      <th>to_date</th>\n",
       "      <th>online_booking</th>\n",
       "      <th>mobile_site_booking</th>\n",
       "      <th>booking_created</th>\n",
       "      <th>from_lat</th>\n",
       "      <th>from_long</th>\n",
       "      <th>to_lat</th>\n",
       "      <th>to_long</th>\n",
       "      <th>Car_Cancellation</th>\n",
       "    </tr>\n",
       "  </thead>\n",
       "  <tbody>\n",
       "    <tr>\n",
       "      <th>8</th>\n",
       "      <td>132521</td>\n",
       "      <td>22182</td>\n",
       "      <td>65</td>\n",
       "      <td>2.0</td>\n",
       "      <td>3</td>\n",
       "      <td>448.0</td>\n",
       "      <td>NaN</td>\n",
       "      <td>NaN</td>\n",
       "      <td>NaN</td>\n",
       "      <td>1/1/2013 16:00</td>\n",
       "      <td>NaN</td>\n",
       "      <td>0</td>\n",
       "      <td>0</td>\n",
       "      <td>1/1/2013 9:44</td>\n",
       "      <td>12.927320</td>\n",
       "      <td>77.635750</td>\n",
       "      <td>NaN</td>\n",
       "      <td>NaN</td>\n",
       "      <td>0</td>\n",
       "    </tr>\n",
       "    <tr>\n",
       "      <th>20</th>\n",
       "      <td>132535</td>\n",
       "      <td>22190</td>\n",
       "      <td>87</td>\n",
       "      <td>2.0</td>\n",
       "      <td>3</td>\n",
       "      <td>471.0</td>\n",
       "      <td>NaN</td>\n",
       "      <td>NaN</td>\n",
       "      <td>NaN</td>\n",
       "      <td>1/1/2013 14:30</td>\n",
       "      <td>NaN</td>\n",
       "      <td>0</td>\n",
       "      <td>0</td>\n",
       "      <td>1/1/2013 12:52</td>\n",
       "      <td>13.018540</td>\n",
       "      <td>77.635240</td>\n",
       "      <td>NaN</td>\n",
       "      <td>NaN</td>\n",
       "      <td>0</td>\n",
       "    </tr>\n",
       "    <tr>\n",
       "      <th>23</th>\n",
       "      <td>132538</td>\n",
       "      <td>21995</td>\n",
       "      <td>12</td>\n",
       "      <td>1.0</td>\n",
       "      <td>3</td>\n",
       "      <td>1286.0</td>\n",
       "      <td>NaN</td>\n",
       "      <td>NaN</td>\n",
       "      <td>NaN</td>\n",
       "      <td>1/1/2013 16:30</td>\n",
       "      <td>NaN</td>\n",
       "      <td>0</td>\n",
       "      <td>0</td>\n",
       "      <td>1/1/2013 14:39</td>\n",
       "      <td>12.973448</td>\n",
       "      <td>77.620320</td>\n",
       "      <td>NaN</td>\n",
       "      <td>NaN</td>\n",
       "      <td>0</td>\n",
       "    </tr>\n",
       "    <tr>\n",
       "      <th>34</th>\n",
       "      <td>132552</td>\n",
       "      <td>22201</td>\n",
       "      <td>12</td>\n",
       "      <td>1.0</td>\n",
       "      <td>3</td>\n",
       "      <td>1323.0</td>\n",
       "      <td>NaN</td>\n",
       "      <td>NaN</td>\n",
       "      <td>NaN</td>\n",
       "      <td>1/1/2013 20:00</td>\n",
       "      <td>1/1/2013 0:00</td>\n",
       "      <td>1</td>\n",
       "      <td>0</td>\n",
       "      <td>1/1/2013 17:25</td>\n",
       "      <td>12.869805</td>\n",
       "      <td>77.653211</td>\n",
       "      <td>NaN</td>\n",
       "      <td>NaN</td>\n",
       "      <td>0</td>\n",
       "    </tr>\n",
       "    <tr>\n",
       "      <th>47</th>\n",
       "      <td>132569</td>\n",
       "      <td>15846</td>\n",
       "      <td>12</td>\n",
       "      <td>2.0</td>\n",
       "      <td>3</td>\n",
       "      <td>142.0</td>\n",
       "      <td>NaN</td>\n",
       "      <td>NaN</td>\n",
       "      <td>NaN</td>\n",
       "      <td>1/2/2013 3:00</td>\n",
       "      <td>NaN</td>\n",
       "      <td>0</td>\n",
       "      <td>0</td>\n",
       "      <td>1/1/2013 19:37</td>\n",
       "      <td>12.912810</td>\n",
       "      <td>77.609230</td>\n",
       "      <td>NaN</td>\n",
       "      <td>NaN</td>\n",
       "      <td>0</td>\n",
       "    </tr>\n",
       "  </tbody>\n",
       "</table>\n",
       "</div>"
      ],
      "text/plain": [
       "        id  user_id  vehicle_model_id  package_id  travel_type_id  \\\n",
       "8   132521    22182                65         2.0               3   \n",
       "20  132535    22190                87         2.0               3   \n",
       "23  132538    21995                12         1.0               3   \n",
       "34  132552    22201                12         1.0               3   \n",
       "47  132569    15846                12         2.0               3   \n",
       "\n",
       "    from_area_id  to_area_id  from_city_id  to_city_id       from_date  \\\n",
       "8          448.0         NaN           NaN         NaN  1/1/2013 16:00   \n",
       "20         471.0         NaN           NaN         NaN  1/1/2013 14:30   \n",
       "23        1286.0         NaN           NaN         NaN  1/1/2013 16:30   \n",
       "34        1323.0         NaN           NaN         NaN  1/1/2013 20:00   \n",
       "47         142.0         NaN           NaN         NaN   1/2/2013 3:00   \n",
       "\n",
       "          to_date  online_booking  mobile_site_booking booking_created  \\\n",
       "8             NaN               0                    0   1/1/2013 9:44   \n",
       "20            NaN               0                    0  1/1/2013 12:52   \n",
       "23            NaN               0                    0  1/1/2013 14:39   \n",
       "34  1/1/2013 0:00               1                    0  1/1/2013 17:25   \n",
       "47            NaN               0                    0  1/1/2013 19:37   \n",
       "\n",
       "     from_lat  from_long  to_lat  to_long  Car_Cancellation  \n",
       "8   12.927320  77.635750     NaN      NaN                 0  \n",
       "20  13.018540  77.635240     NaN      NaN                 0  \n",
       "23  12.973448  77.620320     NaN      NaN                 0  \n",
       "34  12.869805  77.653211     NaN      NaN                 0  \n",
       "47  12.912810  77.609230     NaN      NaN                 0  "
      ]
     },
     "execution_count": 57,
     "metadata": {},
     "output_type": "execute_result"
    }
   ],
   "source": [
    "hour.head()"
   ]
  },
  {
   "cell_type": "code",
   "execution_count": 58,
   "metadata": {},
   "outputs": [
    {
     "data": {
      "text/plain": [
       "(7550, 19)"
      ]
     },
     "execution_count": 58,
     "metadata": {},
     "output_type": "execute_result"
    }
   ],
   "source": [
    "hour.shape"
   ]
  },
  {
   "cell_type": "code",
   "execution_count": 59,
   "metadata": {
    "scrolled": true
   },
   "outputs": [
    {
     "data": {
      "text/plain": [
       "id                        0\n",
       "user_id                   0\n",
       "vehicle_model_id          0\n",
       "package_id                0\n",
       "travel_type_id            0\n",
       "from_area_id              0\n",
       "to_area_id             7550\n",
       "from_city_id           7102\n",
       "to_city_id             7550\n",
       "from_date                 0\n",
       "to_date                2620\n",
       "online_booking            0\n",
       "mobile_site_booking       0\n",
       "booking_created           0\n",
       "from_lat                  0\n",
       "from_long                 0\n",
       "to_lat                 7550\n",
       "to_long                7550\n",
       "Car_Cancellation          0\n",
       "dtype: int64"
      ]
     },
     "execution_count": 59,
     "metadata": {},
     "output_type": "execute_result"
    }
   ],
   "source": [
    "hour.isnull().sum()"
   ]
  },
  {
   "cell_type": "code",
   "execution_count": 60,
   "metadata": {},
   "outputs": [],
   "source": [
    "# We see that there are some columns which most of the data missing: to_area_id, from_city_id, to_city_id, to_lat, to_long so we have no option than to drop these.\n",
    "hour=hour.drop(['to_area_id', 'from_city_id', 'to_city_id', 'to_lat', 'to_long'],axis=1)"
   ]
  },
  {
   "cell_type": "code",
   "execution_count": 61,
   "metadata": {},
   "outputs": [],
   "source": [
    "# We can not fill the nan values in to_date for the 2000 columns, so we drop these rows with nan value\n",
    "hour=hour[hour.to_date.notnull()]"
   ]
  },
  {
   "cell_type": "code",
   "execution_count": 62,
   "metadata": {},
   "outputs": [
    {
     "data": {
      "text/plain": [
       "id                     0\n",
       "user_id                0\n",
       "vehicle_model_id       0\n",
       "package_id             0\n",
       "travel_type_id         0\n",
       "from_area_id           0\n",
       "from_date              0\n",
       "to_date                0\n",
       "online_booking         0\n",
       "mobile_site_booking    0\n",
       "booking_created        0\n",
       "from_lat               0\n",
       "from_long              0\n",
       "Car_Cancellation       0\n",
       "dtype: int64"
      ]
     },
     "execution_count": 62,
     "metadata": {},
     "output_type": "execute_result"
    }
   ],
   "source": [
    "hour.isnull().sum()"
   ]
  },
  {
   "cell_type": "code",
   "execution_count": 63,
   "metadata": {},
   "outputs": [],
   "source": [
    "#Convert date and time to standard format\n",
    "hour.from_date = pd.to_datetime(hour.from_date)\n",
    "hour.booking_created = pd.to_datetime(hour.booking_created)\n",
    "hour.to_date = pd.to_datetime(hour.to_date)"
   ]
  },
  {
   "cell_type": "code",
   "execution_count": 64,
   "metadata": {},
   "outputs": [
    {
     "data": {
      "text/html": [
       "<div>\n",
       "<style scoped>\n",
       "    .dataframe tbody tr th:only-of-type {\n",
       "        vertical-align: middle;\n",
       "    }\n",
       "\n",
       "    .dataframe tbody tr th {\n",
       "        vertical-align: top;\n",
       "    }\n",
       "\n",
       "    .dataframe thead th {\n",
       "        text-align: right;\n",
       "    }\n",
       "</style>\n",
       "<table border=\"1\" class=\"dataframe\">\n",
       "  <thead>\n",
       "    <tr style=\"text-align: right;\">\n",
       "      <th></th>\n",
       "      <th>id</th>\n",
       "      <th>user_id</th>\n",
       "      <th>vehicle_model_id</th>\n",
       "      <th>package_id</th>\n",
       "      <th>travel_type_id</th>\n",
       "      <th>from_area_id</th>\n",
       "      <th>from_date</th>\n",
       "      <th>to_date</th>\n",
       "      <th>online_booking</th>\n",
       "      <th>mobile_site_booking</th>\n",
       "      <th>booking_created</th>\n",
       "      <th>from_lat</th>\n",
       "      <th>from_long</th>\n",
       "      <th>Car_Cancellation</th>\n",
       "    </tr>\n",
       "  </thead>\n",
       "  <tbody>\n",
       "    <tr>\n",
       "      <th>34</th>\n",
       "      <td>132552</td>\n",
       "      <td>22201</td>\n",
       "      <td>12</td>\n",
       "      <td>1.0</td>\n",
       "      <td>3</td>\n",
       "      <td>1323.0</td>\n",
       "      <td>2013-01-01 20:00:00</td>\n",
       "      <td>2013-01-01</td>\n",
       "      <td>1</td>\n",
       "      <td>0</td>\n",
       "      <td>2013-01-01 17:25:00</td>\n",
       "      <td>12.869805</td>\n",
       "      <td>77.653211</td>\n",
       "      <td>0</td>\n",
       "    </tr>\n",
       "    <tr>\n",
       "      <th>80</th>\n",
       "      <td>132609</td>\n",
       "      <td>2005</td>\n",
       "      <td>24</td>\n",
       "      <td>1.0</td>\n",
       "      <td>3</td>\n",
       "      <td>1086.0</td>\n",
       "      <td>2013-01-02 12:15:00</td>\n",
       "      <td>2013-01-02</td>\n",
       "      <td>1</td>\n",
       "      <td>0</td>\n",
       "      <td>2013-01-02 10:14:00</td>\n",
       "      <td>12.907487</td>\n",
       "      <td>77.647290</td>\n",
       "      <td>0</td>\n",
       "    </tr>\n",
       "    <tr>\n",
       "      <th>90</th>\n",
       "      <td>132620</td>\n",
       "      <td>22236</td>\n",
       "      <td>85</td>\n",
       "      <td>2.0</td>\n",
       "      <td>3</td>\n",
       "      <td>393.0</td>\n",
       "      <td>2013-01-02 16:00:00</td>\n",
       "      <td>2013-01-02</td>\n",
       "      <td>1</td>\n",
       "      <td>0</td>\n",
       "      <td>2013-01-02 11:59:00</td>\n",
       "      <td>13.199560</td>\n",
       "      <td>77.706880</td>\n",
       "      <td>0</td>\n",
       "    </tr>\n",
       "    <tr>\n",
       "      <th>91</th>\n",
       "      <td>132621</td>\n",
       "      <td>18777</td>\n",
       "      <td>12</td>\n",
       "      <td>1.0</td>\n",
       "      <td>3</td>\n",
       "      <td>293.0</td>\n",
       "      <td>2013-01-02 17:00:00</td>\n",
       "      <td>2013-01-02</td>\n",
       "      <td>1</td>\n",
       "      <td>0</td>\n",
       "      <td>2013-01-02 12:15:00</td>\n",
       "      <td>12.849482</td>\n",
       "      <td>77.663187</td>\n",
       "      <td>0</td>\n",
       "    </tr>\n",
       "    <tr>\n",
       "      <th>101</th>\n",
       "      <td>132632</td>\n",
       "      <td>694</td>\n",
       "      <td>28</td>\n",
       "      <td>2.0</td>\n",
       "      <td>3</td>\n",
       "      <td>6.0</td>\n",
       "      <td>2013-01-02 16:00:00</td>\n",
       "      <td>2013-01-02</td>\n",
       "      <td>1</td>\n",
       "      <td>0</td>\n",
       "      <td>2013-01-02 14:34:00</td>\n",
       "      <td>12.977390</td>\n",
       "      <td>77.617620</td>\n",
       "      <td>0</td>\n",
       "    </tr>\n",
       "  </tbody>\n",
       "</table>\n",
       "</div>"
      ],
      "text/plain": [
       "         id  user_id  vehicle_model_id  package_id  travel_type_id  \\\n",
       "34   132552    22201                12         1.0               3   \n",
       "80   132609     2005                24         1.0               3   \n",
       "90   132620    22236                85         2.0               3   \n",
       "91   132621    18777                12         1.0               3   \n",
       "101  132632      694                28         2.0               3   \n",
       "\n",
       "     from_area_id           from_date    to_date  online_booking  \\\n",
       "34         1323.0 2013-01-01 20:00:00 2013-01-01               1   \n",
       "80         1086.0 2013-01-02 12:15:00 2013-01-02               1   \n",
       "90          393.0 2013-01-02 16:00:00 2013-01-02               1   \n",
       "91          293.0 2013-01-02 17:00:00 2013-01-02               1   \n",
       "101           6.0 2013-01-02 16:00:00 2013-01-02               1   \n",
       "\n",
       "     mobile_site_booking     booking_created   from_lat  from_long  \\\n",
       "34                     0 2013-01-01 17:25:00  12.869805  77.653211   \n",
       "80                     0 2013-01-02 10:14:00  12.907487  77.647290   \n",
       "90                     0 2013-01-02 11:59:00  13.199560  77.706880   \n",
       "91                     0 2013-01-02 12:15:00  12.849482  77.663187   \n",
       "101                    0 2013-01-02 14:34:00  12.977390  77.617620   \n",
       "\n",
       "     Car_Cancellation  \n",
       "34                  0  \n",
       "80                  0  \n",
       "90                  0  \n",
       "91                  0  \n",
       "101                 0  "
      ]
     },
     "execution_count": 64,
     "metadata": {},
     "output_type": "execute_result"
    }
   ],
   "source": [
    "hour.head()"
   ]
  },
  {
   "cell_type": "markdown",
   "metadata": {},
   "source": [
    "## NOTE: Here many things like in last two cases can be found. I AM LEAVING THOSE THINGS BECAUSE THESE SUGGESTIONS ARE BECOMING REDUNDANT. Here let us try to find some more different observations "
   ]
  },
  {
   "cell_type": "code",
   "execution_count": 65,
   "metadata": {},
   "outputs": [
    {
     "data": {
      "text/plain": [
       "1.0    2104\n",
       "2.0    1430\n",
       "6.0     502\n",
       "4.0     412\n",
       "3.0     375\n",
       "Name: package_id, dtype: int64"
      ]
     },
     "execution_count": 65,
     "metadata": {},
     "output_type": "execute_result"
    }
   ],
   "source": [
    "# Here we have package_id: package (1=4hrs & 40kms, 2=8hrs & 80kms, 3=6hrs & 60kms, 4= 10hrs & 100kms, 5=5hrs & 50kms, 6=3hrs & 30kms, 7=12hrs & 120kms)\n",
    "a=hour.package_id.value_counts()\n",
    "a.head()"
   ]
  },
  {
   "cell_type": "code",
   "execution_count": 66,
   "metadata": {},
   "outputs": [
    {
     "data": {
      "text/plain": [
       "<matplotlib.axes._subplots.AxesSubplot at 0x21af848eda0>"
      ]
     },
     "execution_count": 66,
     "metadata": {},
     "output_type": "execute_result"
    },
    {
     "data": {
      "image/png": "[encoded data removed]",
      "text/plain": [
       "<Figure size 432x288 with 1 Axes>"
      ]
     },
     "metadata": {
      "needs_background": "light"
     },
     "output_type": "display_data"
    }
   ],
   "source": [
    "a.plot(kind='bar')"
   ]
  },
  {
   "cell_type": "markdown",
   "metadata": {},
   "source": [
    "### We see that people mostly prefer 4hrs and 40km hour package the most followed by 8 hrs & 80 kms"
   ]
  },
  {
   "cell_type": "code",
   "execution_count": 67,
   "metadata": {},
   "outputs": [
    {
     "name": "stdout",
     "output_type": "stream",
     "text": [
      "11    176\n",
      "12    176\n",
      "10    167\n",
      "9     158\n",
      "13    142\n",
      "Name: booking_created, dtype: int64\n"
     ]
    },
    {
     "data": {
      "text/plain": [
       "<matplotlib.axes._subplots.AxesSubplot at 0x21af850db38>"
      ]
     },
     "execution_count": 67,
     "metadata": {},
     "output_type": "execute_result"
    },
    {
     "data": {
      "image/png": "[encoded data removed]",
      "text/plain": [
       "<Figure size 432x288 with 1 Axes>"
      ]
     },
     "metadata": {
      "needs_background": "light"
     },
     "output_type": "display_data"
    }
   ],
   "source": [
    "# For hourly with package_id=1, what batch timings most bookings made?\n",
    "d=hour.booking_created[hour.package_id==1.0].dt.hour.value_counts() # Number of bookings made by time in hour\n",
    "print(d.head())\n",
    "d.plot(kind='bar')"
   ]
  },
  {
   "cell_type": "code",
   "execution_count": 68,
   "metadata": {},
   "outputs": [
    {
     "data": {
      "text/plain": [
       "12    1803\n",
       "89     129\n",
       "85      55\n",
       "28      55\n",
       "24      25\n",
       "Name: vehicle_model_id, dtype: int64"
      ]
     },
     "execution_count": 68,
     "metadata": {},
     "output_type": "execute_result"
    }
   ],
   "source": [
    "hour.vehicle_model_id[hour.package_id==1.0].value_counts().head()"
   ]
  },
  {
   "cell_type": "markdown",
   "metadata": {},
   "source": [
    "### For package_id=1 (4 hours and 40kms), people prefer, morning and afternoon timing batch with vehicle id 12, 89 mostly demanded"
   ]
  },
  {
   "cell_type": "code",
   "execution_count": 69,
   "metadata": {},
   "outputs": [
    {
     "name": "stdout",
     "output_type": "stream",
     "text": [
      "10    123\n",
      "9     106\n",
      "11    105\n",
      "22     95\n",
      "12     85\n",
      "Name: booking_created, dtype: int64\n"
     ]
    },
    {
     "data": {
      "text/plain": [
       "<matplotlib.axes._subplots.AxesSubplot at 0x21af8596b00>"
      ]
     },
     "execution_count": 69,
     "metadata": {},
     "output_type": "execute_result"
    },
    {
     "data": {
      "image/png": "[encoded data removed]",
      "text/plain": [
       "<Figure size 432x288 with 1 Axes>"
      ]
     },
     "metadata": {
      "needs_background": "light"
     },
     "output_type": "display_data"
    }
   ],
   "source": [
    "# For hourly with package_id=2, what batch timings most bookings made?\n",
    "e=hour.booking_created[hour.package_id==2.0].dt.hour.value_counts() # Number of bookings made by time in hour\n",
    "print(e.head())\n",
    "e.plot(kind='bar')"
   ]
  },
  {
   "cell_type": "code",
   "execution_count": 70,
   "metadata": {},
   "outputs": [
    {
     "data": {
      "text/plain": [
       "12    882\n",
       "65    211\n",
       "89    105\n",
       "87     80\n",
       "85     54\n",
       "Name: vehicle_model_id, dtype: int64"
      ]
     },
     "execution_count": 70,
     "metadata": {},
     "output_type": "execute_result"
    }
   ],
   "source": [
    "hour.vehicle_model_id[hour.package_id==2.0].value_counts().head() #Count of vehicles preferred for papckage 2"
   ]
  },
  {
   "cell_type": "markdown",
   "metadata": {},
   "source": [
    "### For package_id=2 (8 hours and 80kms), people prefer, morning and afternoon timing batch with vehicle id 12, 65 mostly demanded"
   ]
  },
  {
   "cell_type": "code",
   "execution_count": 71,
   "metadata": {},
   "outputs": [
    {
     "data": {
      "text/plain": [
       "1"
      ]
     },
     "execution_count": 71,
     "metadata": {},
     "output_type": "execute_result"
    }
   ],
   "source": [
    "# Let us try to find in which package id do we have maximum cancellations\n",
    "max=0\n",
    "def count_cancel(i):\n",
    "    max=0\n",
    "    k=hour[hour.package_id==i]\n",
    "    val=k.Car_Cancellation[k.Car_Cancellation==1].value_counts().max()\n",
    "    if val > max:\n",
    "        max=val\n",
    "        id=k.Car_Cancellation[k.Car_Cancellation==1].value_counts().idxmax() \n",
    "        return(id)\n",
    "    return (-1)\n",
    "\n",
    "for i in range(1,8):\n",
    "    out=count_cancel(i)\n",
    "    if out==-1:\n",
    "        idx=0\n",
    "    else:\n",
    "        idx=out\n",
    "        \n",
    "out"
   ]
  },
  {
   "cell_type": "markdown",
   "metadata": {},
   "source": [
    "#### This shows that most cancellations occur in package_id=1"
   ]
  },
  {
   "cell_type": "code",
   "execution_count": 72,
   "metadata": {},
   "outputs": [
    {
     "data": {
      "text/plain": [
       "id                  2307\n",
       "user_id             2307\n",
       "vehicle_model_id    2307\n",
       "package_id          2307\n",
       "travel_type_id      2307\n",
       "dtype: int64"
      ]
     },
     "execution_count": 72,
     "metadata": {},
     "output_type": "execute_result"
    }
   ],
   "source": [
    "hour[(hour.online_booking==1) | (hour.mobile_site_booking==1)].count().head() #Sum of online and mobile site booking"
   ]
  },
  {
   "cell_type": "code",
   "execution_count": 73,
   "metadata": {},
   "outputs": [
    {
     "data": {
      "text/plain": [
       "(4930, 14)"
      ]
     },
     "execution_count": 73,
     "metadata": {},
     "output_type": "execute_result"
    }
   ],
   "source": [
    "hour.shape"
   ]
  },
  {
   "cell_type": "markdown",
   "metadata": {},
   "source": [
    "### This shows that out of 4930 bookings, most bookings are telephonic"
   ]
  },
  {
   "cell_type": "markdown",
   "metadata": {},
   "source": [
    "## -----------"
   ]
  },
  {
   "cell_type": "markdown",
   "metadata": {},
   "source": [
    "# HOURLY Package RECAP:\n",
    "##### >> Here we did not find the earlier findings because of redundancy factor but they are easily computable by changing the codes for above ones.\n",
    "##### >> Other interestings finds:\n",
    "##### >> The company can find which package is used and liked more by people and we found that the package offering 4 hrs & 40km was the most booked one.\n",
    "##### >> Company can benefit from the bar graph showing which timing is most preferred by people selecting different packages and accordingly in the peak times the company can hike the prices.\n",
    "##### >> Also, for each kind of package what kind of vehicle is preferred can help the company place more vehicles of that type.\n",
    "##### >> We also saw most cancellations occur in package 1 so the matter can be closely inspected by the company for efficient working.\n",
    "##### >> It was also seen that most bookings of hourly distance package are made via telephone.\n",
    "\n",
    "### These points can drastically help the company gain and build customers and optimize its working. "
   ]
  },
  {
   "cell_type": "markdown",
   "metadata": {},
   "source": [
    "# ------------------------------------------------------------------------------------------"
   ]
  },
  {
   "cell_type": "markdown",
   "metadata": {},
   "source": [
    "### This was some basic insight from my side on the given dataset. I have tried to look at various aspects of how different data can help the company gain more insight thus leading to a better and more efficient working. \n",
    "\n",
    "#### I hope you loked my work and if used, I hope these insights actually do help XRides. Thanks :)\n",
    "\n",
    "## Vipul Vaibhav\n"
   ]
  }
 ],
 "metadata": {
  "kernelspec": {
   "display_name": "Python 3",
   "language": "python",
   "name": "python3"
  },
  "language_info": {
   "codemirror_mode": {
    "name": "ipython",
    "version": 3
   },
   "file_extension": ".py",
   "mimetype": "text/x-python",
   "name": "python",
   "nbconvert_exporter": "python",
   "pygments_lexer": "ipython3",
   "version": "3.6.0"
  }
 },
 "nbformat": 4,
 "nbformat_minor": 2
}
